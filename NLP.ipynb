{
 "cells": [
  {
   "cell_type": "markdown",
   "metadata": {},
   "source": [
    "# Neural text summarization with PyTorch\n",
    "\n",
    "## Overview\n",
    "\n",
    "## Plan of attack\n",
    "\n",
    "## Obtaining the dataset\n",
    "\n",
    "[https://github.com/mahnazkoupaee/WikiHow-Dataset](https://github.com/mahnazkoupaee/WikiHow-Dataset)\n",
    "\n",
    "> WikiHow is a new large-scale dataset using the online WikiHow (http://www.wikihow.com/) knowledge base *. The dataset is introduced in https://arxiv.org/abs/1810.09305. Please refer to the paper for more information regarding the dataset and its properties.\n",
    "> \n",
    "> Each article consists of multiple paragraphs and each paragraph starts with a sentence summarizing it. By merging the paragraphs to form the article and the paragraph outlines to form the summary, the resulting version of the dataset contains more than 200,000 long-sequence pairs.\n"
   ]
  },
  {
   "cell_type": "markdown",
   "metadata": {},
   "source": [
    "![what data represents](screen1.png)"
   ]
  },
  {
   "cell_type": "code",
   "execution_count": 4,
   "metadata": {},
   "outputs": [],
   "source": [
    "!bash -c 'if [[ ! -d \"data\" ]]; then mkdir data; fi'"
   ]
  },
  {
   "cell_type": "code",
   "execution_count": 5,
   "metadata": {},
   "outputs": [],
   "source": [
    "!bash -c 'if [[ ! -f \"data/wikihow.zip\" ]]; then curl -L# https://github.com/mahnazkoupaee/WikiHow-Dataset/archive/master.zip -o data/wikihow.zip; fi'"
   ]
  },
  {
   "cell_type": "code",
   "execution_count": 6,
   "metadata": {},
   "outputs": [],
   "source": [
    "!bash -c 'if [[ ! -f \"data/all_train.txt\" ]]; then cd data; unzip wikihow.zip; mv WikiHow-Dataset-master/*.txt .; rm -fr WikiHow-Dataset-master; cd -; fi'"
   ]
  },
  {
   "cell_type": "code",
   "execution_count": 7,
   "metadata": {},
   "outputs": [],
   "source": [
    "!bash -c 'if [[ ! -f \"data/wikihow.csv\" ]]; then curl -L# https://public.boxcloud.com/d/1/b1!Ubrgr_bl_IsdAW5Zl6UTxTe58keh6vAtIWUCv9ZKL5E6_01gpmB2sD-tFvEIfj3dhq1wj9Ir_0_x_oseFa_UMKwYeJezElmspBOtuFDaxGNgBpQd_fBT93gF6wzKe5AArJlzdBjOVH1WWkv6n6FSB_GzWzQlNzyTJ3ElsEZsljHPjxfChMLqBJFHc2DvTyplPXwa8lDXAqpz01A1BA3AXGAk4rxllaI1q-lhd8o8q3ICNtJhe9h03WrIhRPPMJXacRWb1iXxiTOilPu4RufcAjIq0VjzDe0qvpOY-Fz_IMymuiiva0Huf4bQjBm2tBwERne0CcpurY24ig79dwcDEicVOue_NXiaA4ZUMxNVEy6EI6y7PheXSWbY9-_4u3dR27w_wzDYqdLHs3gHckZ5NL6iFmuSnsYyFzRvbfJuI0Cjwi5g1FaudrAiDEoNHDyOmsn8bS5o53sAfcLlTgUYL9PcJ0GX-zDVzU0GS0uNRWHHsdY1ly0gCumAv-xl1bWl6dz4D-Dx6bYd31950cOr7BbJ_44xIksg5Hk7AIMttdOaAlot-NNTXechq2gqq80q8PiWVYqD5WQWx9wpZQzv9d1-FwOwcVitIUX_W--I8JvB3ttDA0qarDciGEGxdnwTA9XZ8wDC3Fz1eSGN52wEDdIDVQyEqiTH7gAXJLphV4UCIfdhoZqMrsEpfn2cRnv_f74Ttd3rOg_FstPK0wXOFVH97_rDMn3Qnp3yAqVjhMOVrm8ua6afpjaRw_1C30QDapT-eBWbOW8mOj0w7SkXUIHXmxl73Buxl4vl6oR0H9YbvKX9mJ0HTadKloN8BwRIci1a2GdIXa4F8WyTGQUqntfj3Trja9VMYYrOXYtBbi5KTUv7S1AD4_tVT4nO9XHlVVapPT8HUvP1Vzw4bfcFct2SdMMT1cLEJTvouHzYPRokoqVCFfPp11l8x848-kNaViIp8Z8ItsvJeUL5vzv67SdO7TnjtDNhDgJEWfvwNPRr2kygQcLG2FYkn9ymmv-sr8x8bgsdlPJu6QQqnYB29aEi8KgFB0h1YsNzkCT-0WOf0qssGlflTDpsNQ4HqIkcFB9u3S6bvR33Q7yX3cwV1nyi0lGdV1z0Y3CZCOw9aAWhV6KTQuRBFwSOJJ8x9Yf6khogi9e7prViIZPd2SIAyAMhkYDGs1NBzCXYh1oUhV1sFH6zeSsUoyIQAJYgf6CmVuOGFtwR23aRYJYIbbUJ2B6T0Mm92n8bcjw6eSuEcNpAVpJqVXjh/download -o data/wikihow.csv; fi'"
   ]
  },
  {
   "cell_type": "code",
   "execution_count": 28,
   "metadata": {},
   "outputs": [],
   "source": [
    "import pathlib"
   ]
  },
  {
   "cell_type": "code",
   "execution_count": 29,
   "metadata": {},
   "outputs": [],
   "source": [
    "def read_dataset(mode):\n",
    "    return pathlib.Path(f\"data/{mode}.txt\").read_text().split(\"\\n\")"
   ]
  },
  {
   "cell_type": "code",
   "execution_count": 30,
   "metadata": {},
   "outputs": [],
   "source": [
    "train, test, val, titles = [ read_dataset(mode) for mode in [\"all_train\", \"all_test\", \"all_val\", \"titles\"] ]"
   ]
  },
  {
   "cell_type": "markdown",
   "metadata": {},
   "source": [
    "## Exploring the data"
   ]
  },
  {
   "cell_type": "code",
   "execution_count": 31,
   "metadata": {},
   "outputs": [],
   "source": [
    "import random"
   ]
  },
  {
   "cell_type": "code",
   "execution_count": 12,
   "metadata": {},
   "outputs": [
    {
     "data": {
      "text/plain": [
       "['HowtoCleanBloodfromWalls1',\n",
       " 'HowtoReduceSlowCookerMesses1',\n",
       " 'HowtoGettheMostOutofReadingFashionMagazines',\n",
       " 'HowtoSpyLegally',\n",
       " 'HowtoTreataSwollenKnee4',\n",
       " 'HowtoWhineYourWaist2',\n",
       " 'HowtoPreventHardeningoftheArteries3',\n",
       " 'HowtoDoubleSpaceinPages2',\n",
       " 'HowtoTreatGastricUlcer',\n",
       " 'HowtoVoteAgainstUnionization1']"
      ]
     },
     "execution_count": 12,
     "metadata": {},
     "output_type": "execute_result"
    }
   ],
   "source": [
    "random.sample(population=train, k=10)"
   ]
  },
  {
   "cell_type": "code",
   "execution_count": 13,
   "metadata": {},
   "outputs": [
    {
     "data": {
      "text/plain": [
       "['HowtoRunCrossCountry',\n",
       " 'HowtoCalculateElectronegativity3',\n",
       " 'HowtoPerformaHouseInspection2',\n",
       " 'HowtoTellifaPearlIsReal2',\n",
       " 'HowtoCleanYourOvenWithoutOdor2',\n",
       " 'HowtoBeaGolfCaddy2',\n",
       " 'HowtoUseCitrusPeelsAroundtheHouse2',\n",
       " 'HowtoGetOutofaNonCompeteAgreement3',\n",
       " 'HowtoBecomeanAmazonAssociate',\n",
       " 'HowtoChooseaHairstyleforSpring1']"
      ]
     },
     "execution_count": 13,
     "metadata": {},
     "output_type": "execute_result"
    }
   ],
   "source": [
    "random.sample(population=test, k=10)"
   ]
  },
  {
   "cell_type": "code",
   "execution_count": 14,
   "metadata": {},
   "outputs": [
    {
     "data": {
      "text/plain": [
       "['HowtoDisciplineaChildThatHasAspergers3',\n",
       " 'HowtoWriteanInsightfulSong',\n",
       " 'HowtoBecomeaSigningAgent',\n",
       " 'HowtoProgramaReplacementKeylessEntryFobfora1996Toyota4Runner',\n",
       " 'HowtoUseMobileOdinonAndroid',\n",
       " 'HowtoGiveUpSelfCriticismAsaPerfectionist3',\n",
       " 'HowtoBecomeanOrganDonorinWisconsin3',\n",
       " 'HowtoHideThingsinaBook2',\n",
       " 'HowtoStudyUsingtheGroundwaterPrinciple',\n",
       " 'HowtoGetOutofaBoringConversation']"
      ]
     },
     "execution_count": 14,
     "metadata": {},
     "output_type": "execute_result"
    }
   ],
   "source": [
    "random.sample(population=val, k=10)"
   ]
  },
  {
   "cell_type": "code",
   "execution_count": 15,
   "metadata": {},
   "outputs": [
    {
     "data": {
      "text/plain": [
       "['HowtoUseEmojionAndroid1',\n",
       " 'HowtoCreateaPoultice4',\n",
       " 'HowtoDyeYourHairLightBrown3',\n",
       " 'HowtoCalculateEffectiveInterestRate',\n",
       " 'HowtoRemovePaintfromWood3',\n",
       " 'HowtoStraightenYourSpine',\n",
       " 'HowtoEnrollInaTribalCollege',\n",
       " 'HowtoAddandDeleteUsersAccountsWithCommandPromptinWindows',\n",
       " 'HowtoCookGroundTurkey2',\n",
       " 'HowtoGetaPiscesMan3']"
      ]
     },
     "execution_count": 15,
     "metadata": {},
     "output_type": "execute_result"
    }
   ],
   "source": [
    "random.sample(population=titles, k=10)"
   ]
  },
  {
   "cell_type": "code",
   "execution_count": 16,
   "metadata": {},
   "outputs": [
    {
     "data": {
      "text/plain": [
       "[168128, 6000, 6000, 180129]"
      ]
     },
     "execution_count": 16,
     "metadata": {},
     "output_type": "execute_result"
    }
   ],
   "source": [
    "[ len(dataset) for dataset in [train, test, val, titles] ]"
   ]
  },
  {
   "cell_type": "code",
   "execution_count": 32,
   "metadata": {},
   "outputs": [],
   "source": [
    "import pandas as pd"
   ]
  },
  {
   "cell_type": "code",
   "execution_count": 33,
   "metadata": {},
   "outputs": [],
   "source": [
    "articles = pd.read_csv(\"data/wikihow.csv\")"
   ]
  },
  {
   "cell_type": "code",
   "execution_count": 19,
   "metadata": {},
   "outputs": [
    {
     "data": {
      "text/html": [
       "<div>\n",
       "<style scoped>\n",
       "    .dataframe tbody tr th:only-of-type {\n",
       "        vertical-align: middle;\n",
       "    }\n",
       "\n",
       "    .dataframe tbody tr th {\n",
       "        vertical-align: top;\n",
       "    }\n",
       "\n",
       "    .dataframe thead th {\n",
       "        text-align: right;\n",
       "    }\n",
       "</style>\n",
       "<table border=\"1\" class=\"dataframe\">\n",
       "  <thead>\n",
       "    <tr style=\"text-align: right;\">\n",
       "      <th></th>\n",
       "      <th>headline</th>\n",
       "      <th>title</th>\n",
       "      <th>text</th>\n",
       "    </tr>\n",
       "  </thead>\n",
       "  <tbody>\n",
       "    <tr>\n",
       "      <th>87404</th>\n",
       "      <td>\\nPreheat the oven to 400ºF.,\\nAdd the ingredi...</td>\n",
       "      <td>How to Make Healthy Vegan Chocolate Pumpkin Nu...</td>\n",
       "      <td>Prepare the cake pan. The size of the pan is ...</td>\n",
       "    </tr>\n",
       "    <tr>\n",
       "      <th>101553</th>\n",
       "      <td>\\nOpen a new blank Office Word 2007 document i...</td>\n",
       "      <td>How to Create a Brochure in Microsoft Word 20073</td>\n",
       "      <td>, The ruler at the top of the window shows the...</td>\n",
       "    </tr>\n",
       "    <tr>\n",
       "      <th>83543</th>\n",
       "      <td>\\nApply the Riemann sum definition of an integ...</td>\n",
       "      <td>How to Calculate Line Integrals</td>\n",
       "      <td>We want our function f{\\displaystyle f} to be...</td>\n",
       "    </tr>\n",
       "    <tr>\n",
       "      <th>141484</th>\n",
       "      <td>\\nNavigate to Twitter and compose a tweet as y...</td>\n",
       "      <td>How to Tweet Someone2</td>\n",
       "      <td>, For example, if mentioning wikiHow in your t...</td>\n",
       "    </tr>\n",
       "    <tr>\n",
       "      <th>110654</th>\n",
       "      <td>\\nOpen the Maps app.,\\nTap on the search box.,...</td>\n",
       "      <td>How to Add Stops to a Route on Apple Maps</td>\n",
       "      <td>The icon looks like a map and is located on t...</td>\n",
       "    </tr>\n",
       "    <tr>\n",
       "      <th>131197</th>\n",
       "      <td>\\nPrep your veggies and herb.,\\nSaute your oni...</td>\n",
       "      <td>How to Make Pizza Pockets3</td>\n",
       "      <td>Dice your onion. Mince your garlic. Slice or ...</td>\n",
       "    </tr>\n",
       "    <tr>\n",
       "      <th>2805</th>\n",
       "      <td>\\nHave your yoga mat, a medicine ball and a se...</td>\n",
       "      <td>How to Do Medicine Ball Back Exercises3</td>\n",
       "      <td>You will need a mat or another comfortable ar...</td>\n",
       "    </tr>\n",
       "    <tr>\n",
       "      <th>15915</th>\n",
       "      <td>\\nNotice pain in one of your testicles.,\\nLook...</td>\n",
       "      <td>How to Know if You Have Epididymitis</td>\n",
       "      <td>This is the most common sign of epididymitis....</td>\n",
       "    </tr>\n",
       "    <tr>\n",
       "      <th>208172</th>\n",
       "      <td>\\nWarm up your muscles.,\\nFind a smooth, flat ...</td>\n",
       "      <td>How to Headspin</td>\n",
       "      <td>To do a headspin, you will use your legs, arm...</td>\n",
       "    </tr>\n",
       "    <tr>\n",
       "      <th>201563</th>\n",
       "      <td>\\nFind digital pictures of everyone in your fa...</td>\n",
       "      <td>How to Make Family Photo Magnets1</td>\n",
       "      <td>You can take new pictures and load them from ...</td>\n",
       "    </tr>\n",
       "  </tbody>\n",
       "</table>\n",
       "</div>"
      ],
      "text/plain": [
       "                                                 headline  \\\n",
       "87404   \\nPreheat the oven to 400ºF.,\\nAdd the ingredi...   \n",
       "101553  \\nOpen a new blank Office Word 2007 document i...   \n",
       "83543   \\nApply the Riemann sum definition of an integ...   \n",
       "141484  \\nNavigate to Twitter and compose a tweet as y...   \n",
       "110654  \\nOpen the Maps app.,\\nTap on the search box.,...   \n",
       "131197  \\nPrep your veggies and herb.,\\nSaute your oni...   \n",
       "2805    \\nHave your yoga mat, a medicine ball and a se...   \n",
       "15915   \\nNotice pain in one of your testicles.,\\nLook...   \n",
       "208172  \\nWarm up your muscles.,\\nFind a smooth, flat ...   \n",
       "201563  \\nFind digital pictures of everyone in your fa...   \n",
       "\n",
       "                                                    title  \\\n",
       "87404   How to Make Healthy Vegan Chocolate Pumpkin Nu...   \n",
       "101553   How to Create a Brochure in Microsoft Word 20073   \n",
       "83543                     How to Calculate Line Integrals   \n",
       "141484                              How to Tweet Someone2   \n",
       "110654          How to Add Stops to a Route on Apple Maps   \n",
       "131197                         How to Make Pizza Pockets3   \n",
       "2805              How to Do Medicine Ball Back Exercises3   \n",
       "15915                How to Know if You Have Epididymitis   \n",
       "208172                                    How to Headspin   \n",
       "201563                  How to Make Family Photo Magnets1   \n",
       "\n",
       "                                                     text  \n",
       "87404    Prepare the cake pan. The size of the pan is ...  \n",
       "101553  , The ruler at the top of the window shows the...  \n",
       "83543    We want our function f{\\displaystyle f} to be...  \n",
       "141484  , For example, if mentioning wikiHow in your t...  \n",
       "110654   The icon looks like a map and is located on t...  \n",
       "131197   Dice your onion. Mince your garlic. Slice or ...  \n",
       "2805     You will need a mat or another comfortable ar...  \n",
       "15915    This is the most common sign of epididymitis....  \n",
       "208172   To do a headspin, you will use your legs, arm...  \n",
       "201563   You can take new pictures and load them from ...  "
      ]
     },
     "execution_count": 19,
     "metadata": {},
     "output_type": "execute_result"
    }
   ],
   "source": [
    "articles.sample(n=10, random_state=2020)"
   ]
  },
  {
   "cell_type": "code",
   "execution_count": 20,
   "metadata": {},
   "outputs": [
    {
     "data": {
      "text/plain": [
       "215365"
      ]
     },
     "execution_count": 20,
     "metadata": {},
     "output_type": "execute_result"
    }
   ],
   "source": [
    "len(articles['title'])"
   ]
  },
  {
   "cell_type": "code",
   "execution_count": 21,
   "metadata": {},
   "outputs": [
    {
     "data": {
      "text/plain": [
       "215365"
      ]
     },
     "execution_count": 21,
     "metadata": {},
     "output_type": "execute_result"
    }
   ],
   "source": [
    "len(articles['title'].unique())"
   ]
  },
  {
   "cell_type": "code",
   "execution_count": 34,
   "metadata": {},
   "outputs": [],
   "source": [
    "articles['normalized_title'] = articles['title'].str.replace(' ', '')"
   ]
  },
  {
   "cell_type": "code",
   "execution_count": 23,
   "metadata": {},
   "outputs": [
    {
     "data": {
      "text/html": [
       "<div>\n",
       "<style scoped>\n",
       "    .dataframe tbody tr th:only-of-type {\n",
       "        vertical-align: middle;\n",
       "    }\n",
       "\n",
       "    .dataframe tbody tr th {\n",
       "        vertical-align: top;\n",
       "    }\n",
       "\n",
       "    .dataframe thead th {\n",
       "        text-align: right;\n",
       "    }\n",
       "</style>\n",
       "<table border=\"1\" class=\"dataframe\">\n",
       "  <thead>\n",
       "    <tr style=\"text-align: right;\">\n",
       "      <th></th>\n",
       "      <th>headline</th>\n",
       "      <th>title</th>\n",
       "      <th>text</th>\n",
       "      <th>normalized_title</th>\n",
       "    </tr>\n",
       "  </thead>\n",
       "  <tbody>\n",
       "    <tr>\n",
       "      <th>87404</th>\n",
       "      <td>\\nPreheat the oven to 400ºF.,\\nAdd the ingredi...</td>\n",
       "      <td>How to Make Healthy Vegan Chocolate Pumpkin Nu...</td>\n",
       "      <td>Prepare the cake pan. The size of the pan is ...</td>\n",
       "      <td>HowtoMakeHealthyVeganChocolatePumpkinNutCake</td>\n",
       "    </tr>\n",
       "    <tr>\n",
       "      <th>101553</th>\n",
       "      <td>\\nOpen a new blank Office Word 2007 document i...</td>\n",
       "      <td>How to Create a Brochure in Microsoft Word 20073</td>\n",
       "      <td>, The ruler at the top of the window shows the...</td>\n",
       "      <td>HowtoCreateaBrochureinMicrosoftWord20073</td>\n",
       "    </tr>\n",
       "    <tr>\n",
       "      <th>83543</th>\n",
       "      <td>\\nApply the Riemann sum definition of an integ...</td>\n",
       "      <td>How to Calculate Line Integrals</td>\n",
       "      <td>We want our function f{\\displaystyle f} to be...</td>\n",
       "      <td>HowtoCalculateLineIntegrals</td>\n",
       "    </tr>\n",
       "    <tr>\n",
       "      <th>141484</th>\n",
       "      <td>\\nNavigate to Twitter and compose a tweet as y...</td>\n",
       "      <td>How to Tweet Someone2</td>\n",
       "      <td>, For example, if mentioning wikiHow in your t...</td>\n",
       "      <td>HowtoTweetSomeone2</td>\n",
       "    </tr>\n",
       "    <tr>\n",
       "      <th>110654</th>\n",
       "      <td>\\nOpen the Maps app.,\\nTap on the search box.,...</td>\n",
       "      <td>How to Add Stops to a Route on Apple Maps</td>\n",
       "      <td>The icon looks like a map and is located on t...</td>\n",
       "      <td>HowtoAddStopstoaRouteonAppleMaps</td>\n",
       "    </tr>\n",
       "    <tr>\n",
       "      <th>131197</th>\n",
       "      <td>\\nPrep your veggies and herb.,\\nSaute your oni...</td>\n",
       "      <td>How to Make Pizza Pockets3</td>\n",
       "      <td>Dice your onion. Mince your garlic. Slice or ...</td>\n",
       "      <td>HowtoMakePizzaPockets3</td>\n",
       "    </tr>\n",
       "    <tr>\n",
       "      <th>2805</th>\n",
       "      <td>\\nHave your yoga mat, a medicine ball and a se...</td>\n",
       "      <td>How to Do Medicine Ball Back Exercises3</td>\n",
       "      <td>You will need a mat or another comfortable ar...</td>\n",
       "      <td>HowtoDoMedicineBallBackExercises3</td>\n",
       "    </tr>\n",
       "    <tr>\n",
       "      <th>15915</th>\n",
       "      <td>\\nNotice pain in one of your testicles.,\\nLook...</td>\n",
       "      <td>How to Know if You Have Epididymitis</td>\n",
       "      <td>This is the most common sign of epididymitis....</td>\n",
       "      <td>HowtoKnowifYouHaveEpididymitis</td>\n",
       "    </tr>\n",
       "    <tr>\n",
       "      <th>208172</th>\n",
       "      <td>\\nWarm up your muscles.,\\nFind a smooth, flat ...</td>\n",
       "      <td>How to Headspin</td>\n",
       "      <td>To do a headspin, you will use your legs, arm...</td>\n",
       "      <td>HowtoHeadspin</td>\n",
       "    </tr>\n",
       "    <tr>\n",
       "      <th>201563</th>\n",
       "      <td>\\nFind digital pictures of everyone in your fa...</td>\n",
       "      <td>How to Make Family Photo Magnets1</td>\n",
       "      <td>You can take new pictures and load them from ...</td>\n",
       "      <td>HowtoMakeFamilyPhotoMagnets1</td>\n",
       "    </tr>\n",
       "  </tbody>\n",
       "</table>\n",
       "</div>"
      ],
      "text/plain": [
       "                                                 headline  \\\n",
       "87404   \\nPreheat the oven to 400ºF.,\\nAdd the ingredi...   \n",
       "101553  \\nOpen a new blank Office Word 2007 document i...   \n",
       "83543   \\nApply the Riemann sum definition of an integ...   \n",
       "141484  \\nNavigate to Twitter and compose a tweet as y...   \n",
       "110654  \\nOpen the Maps app.,\\nTap on the search box.,...   \n",
       "131197  \\nPrep your veggies and herb.,\\nSaute your oni...   \n",
       "2805    \\nHave your yoga mat, a medicine ball and a se...   \n",
       "15915   \\nNotice pain in one of your testicles.,\\nLook...   \n",
       "208172  \\nWarm up your muscles.,\\nFind a smooth, flat ...   \n",
       "201563  \\nFind digital pictures of everyone in your fa...   \n",
       "\n",
       "                                                    title  \\\n",
       "87404   How to Make Healthy Vegan Chocolate Pumpkin Nu...   \n",
       "101553   How to Create a Brochure in Microsoft Word 20073   \n",
       "83543                     How to Calculate Line Integrals   \n",
       "141484                              How to Tweet Someone2   \n",
       "110654          How to Add Stops to a Route on Apple Maps   \n",
       "131197                         How to Make Pizza Pockets3   \n",
       "2805              How to Do Medicine Ball Back Exercises3   \n",
       "15915                How to Know if You Have Epididymitis   \n",
       "208172                                    How to Headspin   \n",
       "201563                  How to Make Family Photo Magnets1   \n",
       "\n",
       "                                                     text  \\\n",
       "87404    Prepare the cake pan. The size of the pan is ...   \n",
       "101553  , The ruler at the top of the window shows the...   \n",
       "83543    We want our function f{\\displaystyle f} to be...   \n",
       "141484  , For example, if mentioning wikiHow in your t...   \n",
       "110654   The icon looks like a map and is located on t...   \n",
       "131197   Dice your onion. Mince your garlic. Slice or ...   \n",
       "2805     You will need a mat or another comfortable ar...   \n",
       "15915    This is the most common sign of epididymitis....   \n",
       "208172   To do a headspin, you will use your legs, arm...   \n",
       "201563   You can take new pictures and load them from ...   \n",
       "\n",
       "                                    normalized_title  \n",
       "87404   HowtoMakeHealthyVeganChocolatePumpkinNutCake  \n",
       "101553      HowtoCreateaBrochureinMicrosoftWord20073  \n",
       "83543                    HowtoCalculateLineIntegrals  \n",
       "141484                            HowtoTweetSomeone2  \n",
       "110654              HowtoAddStopstoaRouteonAppleMaps  \n",
       "131197                        HowtoMakePizzaPockets3  \n",
       "2805               HowtoDoMedicineBallBackExercises3  \n",
       "15915                 HowtoKnowifYouHaveEpididymitis  \n",
       "208172                                 HowtoHeadspin  \n",
       "201563                  HowtoMakeFamilyPhotoMagnets1  "
      ]
     },
     "execution_count": 23,
     "metadata": {},
     "output_type": "execute_result"
    }
   ],
   "source": [
    "articles.sample(n=10, random_state=2020)"
   ]
  },
  {
   "cell_type": "code",
   "execution_count": 35,
   "metadata": {},
   "outputs": [
    {
     "data": {
      "text/html": [
       "<div>\n",
       "<style scoped>\n",
       "    .dataframe tbody tr th:only-of-type {\n",
       "        vertical-align: middle;\n",
       "    }\n",
       "\n",
       "    .dataframe tbody tr th {\n",
       "        vertical-align: top;\n",
       "    }\n",
       "\n",
       "    .dataframe thead th {\n",
       "        text-align: right;\n",
       "    }\n",
       "</style>\n",
       "<table border=\"1\" class=\"dataframe\">\n",
       "  <thead>\n",
       "    <tr style=\"text-align: right;\">\n",
       "      <th></th>\n",
       "      <th>headline</th>\n",
       "      <th>title</th>\n",
       "      <th>text</th>\n",
       "      <th>normalized_title</th>\n",
       "    </tr>\n",
       "  </thead>\n",
       "  <tbody>\n",
       "    <tr>\n",
       "      <th>133</th>\n",
       "      <td>NaN</td>\n",
       "      <td>How to Write a Love Letter to a Girl You Do No...</td>\n",
       "      <td>NaN</td>\n",
       "      <td>HowtoWriteaLoveLettertoaGirlYouDoNotKnow1</td>\n",
       "    </tr>\n",
       "    <tr>\n",
       "      <th>310</th>\n",
       "      <td>NaN</td>\n",
       "      <td>How to Ask Your Crush for Their Cell Phone Num...</td>\n",
       "      <td>NaN</td>\n",
       "      <td>HowtoAskYourCrushforTheirCellPhoneNumber1</td>\n",
       "    </tr>\n",
       "    <tr>\n",
       "      <th>323</th>\n",
       "      <td>NaN</td>\n",
       "      <td>How to Talk to a Girl You Like for the First T...</td>\n",
       "      <td>NaN</td>\n",
       "      <td>HowtoTalktoaGirlYouLikefortheFirstTime2</td>\n",
       "    </tr>\n",
       "    <tr>\n",
       "      <th>324</th>\n",
       "      <td>NaN</td>\n",
       "      <td>How to Talk to a Girl You Like for the First T...</td>\n",
       "      <td>NaN</td>\n",
       "      <td>HowtoTalktoaGirlYouLikefortheFirstTime3</td>\n",
       "    </tr>\n",
       "    <tr>\n",
       "      <th>1483</th>\n",
       "      <td>NaN</td>\n",
       "      <td>How to Be a Fashionista at a Western Performan...</td>\n",
       "      <td>NaN</td>\n",
       "      <td>HowtoBeaFashionistaataWesternPerformanceShow5</td>\n",
       "    </tr>\n",
       "    <tr>\n",
       "      <th>...</th>\n",
       "      <td>...</td>\n",
       "      <td>...</td>\n",
       "      <td>...</td>\n",
       "      <td>...</td>\n",
       "    </tr>\n",
       "    <tr>\n",
       "      <th>212978</th>\n",
       "      <td>NaN</td>\n",
       "      <td>How to Make a Spider Man Costume1</td>\n",
       "      <td>NaN</td>\n",
       "      <td>HowtoMakeaSpiderManCostume1</td>\n",
       "    </tr>\n",
       "    <tr>\n",
       "      <th>213861</th>\n",
       "      <td>NaN</td>\n",
       "      <td>How to Accompany a Singer on Piano4</td>\n",
       "      <td>NaN</td>\n",
       "      <td>HowtoAccompanyaSingeronPiano4</td>\n",
       "    </tr>\n",
       "    <tr>\n",
       "      <th>214179</th>\n",
       "      <td>NaN</td>\n",
       "      <td>How to Speak Klingon3</td>\n",
       "      <td>NaN</td>\n",
       "      <td>HowtoSpeakKlingon3</td>\n",
       "    </tr>\n",
       "    <tr>\n",
       "      <th>214354</th>\n",
       "      <td>NaN</td>\n",
       "      <td>How to Measure Decibels1</td>\n",
       "      <td>NaN</td>\n",
       "      <td>HowtoMeasureDecibels1</td>\n",
       "    </tr>\n",
       "    <tr>\n",
       "      <th>214507</th>\n",
       "      <td>NaN</td>\n",
       "      <td>How to Learn Aerobatics2</td>\n",
       "      <td>NaN</td>\n",
       "      <td>HowtoLearnAerobatics2</td>\n",
       "    </tr>\n",
       "  </tbody>\n",
       "</table>\n",
       "<p>818 rows × 4 columns</p>\n",
       "</div>"
      ],
      "text/plain": [
       "       headline                                              title text  \\\n",
       "133         NaN  How to Write a Love Letter to a Girl You Do No...  NaN   \n",
       "310         NaN  How to Ask Your Crush for Their Cell Phone Num...  NaN   \n",
       "323         NaN  How to Talk to a Girl You Like for the First T...  NaN   \n",
       "324         NaN  How to Talk to a Girl You Like for the First T...  NaN   \n",
       "1483        NaN  How to Be a Fashionista at a Western Performan...  NaN   \n",
       "...         ...                                                ...  ...   \n",
       "212978      NaN                  How to Make a Spider Man Costume1  NaN   \n",
       "213861      NaN                How to Accompany a Singer on Piano4  NaN   \n",
       "214179      NaN                              How to Speak Klingon3  NaN   \n",
       "214354      NaN                           How to Measure Decibels1  NaN   \n",
       "214507      NaN                           How to Learn Aerobatics2  NaN   \n",
       "\n",
       "                                     normalized_title  \n",
       "133         HowtoWriteaLoveLettertoaGirlYouDoNotKnow1  \n",
       "310         HowtoAskYourCrushforTheirCellPhoneNumber1  \n",
       "323           HowtoTalktoaGirlYouLikefortheFirstTime2  \n",
       "324           HowtoTalktoaGirlYouLikefortheFirstTime3  \n",
       "1483    HowtoBeaFashionistaataWesternPerformanceShow5  \n",
       "...                                               ...  \n",
       "212978                    HowtoMakeaSpiderManCostume1  \n",
       "213861                  HowtoAccompanyaSingeronPiano4  \n",
       "214179                             HowtoSpeakKlingon3  \n",
       "214354                          HowtoMeasureDecibels1  \n",
       "214507                          HowtoLearnAerobatics2  \n",
       "\n",
       "[818 rows x 4 columns]"
      ]
     },
     "execution_count": 35,
     "metadata": {},
     "output_type": "execute_result"
    }
   ],
   "source": [
    "articles[articles.headline.isna()]"
   ]
  },
  {
   "cell_type": "code",
   "execution_count": 36,
   "metadata": {},
   "outputs": [],
   "source": [
    "articles = articles[~articles.headline.isna()]\n",
    "articles = articles[~articles.text.isna()]"
   ]
  },
  {
   "cell_type": "code",
   "execution_count": 37,
   "metadata": {},
   "outputs": [
    {
     "data": {
      "text/plain": [
       "157304"
      ]
     },
     "execution_count": 37,
     "metadata": {},
     "output_type": "execute_result"
    }
   ],
   "source": [
    "len(articles[articles['normalized_title'].isin(train)]['normalized_title'].unique())"
   ]
  },
  {
   "cell_type": "code",
   "execution_count": 27,
   "metadata": {},
   "outputs": [
    {
     "data": {
      "text/plain": [
       "168128"
      ]
     },
     "execution_count": 27,
     "metadata": {},
     "output_type": "execute_result"
    }
   ],
   "source": [
    "len(train)"
   ]
  },
  {
   "cell_type": "code",
   "execution_count": 28,
   "metadata": {},
   "outputs": [
    {
     "data": {
      "text/html": [
       "<div>\n",
       "<style scoped>\n",
       "    .dataframe tbody tr th:only-of-type {\n",
       "        vertical-align: middle;\n",
       "    }\n",
       "\n",
       "    .dataframe tbody tr th {\n",
       "        vertical-align: top;\n",
       "    }\n",
       "\n",
       "    .dataframe thead th {\n",
       "        text-align: right;\n",
       "    }\n",
       "</style>\n",
       "<table border=\"1\" class=\"dataframe\">\n",
       "  <thead>\n",
       "    <tr style=\"text-align: right;\">\n",
       "      <th></th>\n",
       "      <th>headline</th>\n",
       "      <th>title</th>\n",
       "      <th>text</th>\n",
       "      <th>normalized_title</th>\n",
       "    </tr>\n",
       "  </thead>\n",
       "  <tbody>\n",
       "    <tr>\n",
       "      <th>177726</th>\n",
       "      <td>\\nCut the chicken wire/hexagonal wire mesh usi...</td>\n",
       "      <td>How to Build a Ferrocement Tank1</td>\n",
       "      <td>The tank size will dictate the necessary size...</td>\n",
       "      <td>HowtoBuildaFerrocementTank1</td>\n",
       "    </tr>\n",
       "  </tbody>\n",
       "</table>\n",
       "</div>"
      ],
      "text/plain": [
       "                                                 headline  \\\n",
       "177726  \\nCut the chicken wire/hexagonal wire mesh usi...   \n",
       "\n",
       "                                   title  \\\n",
       "177726  How to Build a Ferrocement Tank1   \n",
       "\n",
       "                                                     text  \\\n",
       "177726   The tank size will dictate the necessary size...   \n",
       "\n",
       "                   normalized_title  \n",
       "177726  HowtoBuildaFerrocementTank1  "
      ]
     },
     "execution_count": 28,
     "metadata": {},
     "output_type": "execute_result"
    }
   ],
   "source": [
    "articles[articles['normalized_title'] == 'HowtoBuildaFerrocementTank1']"
   ]
  },
  {
   "cell_type": "code",
   "execution_count": 29,
   "metadata": {},
   "outputs": [
    {
     "data": {
      "text/plain": [
       "[]"
      ]
     },
     "execution_count": 29,
     "metadata": {},
     "output_type": "execute_result"
    }
   ],
   "source": [
    "[ t for t in train if 'errocement' in t ]"
   ]
  },
  {
   "cell_type": "code",
   "execution_count": 30,
   "metadata": {},
   "outputs": [
    {
     "data": {
      "text/plain": [
       "[]"
      ]
     },
     "execution_count": 30,
     "metadata": {},
     "output_type": "execute_result"
    }
   ],
   "source": [
    "[ t for t in test if 'errocement' in t ]"
   ]
  },
  {
   "cell_type": "code",
   "execution_count": 31,
   "metadata": {},
   "outputs": [
    {
     "data": {
      "text/plain": [
       "[]"
      ]
     },
     "execution_count": 31,
     "metadata": {},
     "output_type": "execute_result"
    }
   ],
   "source": [
    "[ t for t in val if 'errocement' in t ]"
   ]
  },
  {
   "cell_type": "code",
   "execution_count": 38,
   "metadata": {},
   "outputs": [],
   "source": [
    "all_titles = set(articles['normalized_title'].unique())"
   ]
  },
  {
   "cell_type": "code",
   "execution_count": 33,
   "metadata": {},
   "outputs": [
    {
     "data": {
      "text/plain": [
       "157304"
      ]
     },
     "execution_count": 33,
     "metadata": {},
     "output_type": "execute_result"
    }
   ],
   "source": [
    "len(set(train) & all_titles)"
   ]
  },
  {
   "cell_type": "code",
   "execution_count": 34,
   "metadata": {},
   "outputs": [
    {
     "data": {
      "text/plain": [
       "5580"
      ]
     },
     "execution_count": 34,
     "metadata": {},
     "output_type": "execute_result"
    }
   ],
   "source": [
    "len(set(test) & all_titles)"
   ]
  },
  {
   "cell_type": "code",
   "execution_count": 35,
   "metadata": {},
   "outputs": [
    {
     "data": {
      "text/plain": [
       "5600"
      ]
     },
     "execution_count": 35,
     "metadata": {},
     "output_type": "execute_result"
    }
   ],
   "source": [
    "len(set(val) & all_titles)"
   ]
  },
  {
   "cell_type": "code",
   "execution_count": 39,
   "metadata": {},
   "outputs": [],
   "source": [
    "train = list(set(train) & all_titles)"
   ]
  },
  {
   "cell_type": "code",
   "execution_count": 40,
   "metadata": {},
   "outputs": [],
   "source": [
    "test = list(set(test) & all_titles)"
   ]
  },
  {
   "cell_type": "code",
   "execution_count": 41,
   "metadata": {},
   "outputs": [],
   "source": [
    "val = list(set(val) & all_titles)"
   ]
  },
  {
   "cell_type": "markdown",
   "metadata": {},
   "source": [
    "## Exploring the data more"
   ]
  },
  {
   "cell_type": "code",
   "execution_count": 42,
   "metadata": {},
   "outputs": [],
   "source": [
    "import spacy"
   ]
  },
  {
   "cell_type": "code",
   "execution_count": 44,
   "metadata": {},
   "outputs": [],
   "source": [
    "nlp = spacy.load(\n",
    "    \"en_core_web_lg\",\n",
    "    disable=[\"tagger\", \"parser\", \"ner\", \"textcat\"]\n",
    ")"
   ]
  },
  {
   "cell_type": "code",
   "execution_count": 41,
   "metadata": {},
   "outputs": [
    {
     "data": {
      "text/plain": [
       "'\\nKeep related supplies in the same area.,\\nMake an effort to clean a dedicated workspace after every session.,\\nPlace loose supplies in large, clearly visible containers.,\\nUse clotheslines and clips to hang sketches, photos, and reference material.,\\nUse every inch of the room for storage, especially vertical space.,\\nUse chalkboard paint to make space for drafting ideas right on the walls.,\\nPurchase a label maker to make your organization strategy semi-permanent.,\\nMake a habit of throwing out old, excess, or useless stuff each month.'"
      ]
     },
     "execution_count": 41,
     "metadata": {},
     "output_type": "execute_result"
    }
   ],
   "source": [
    "articles.iloc[0]['headline']"
   ]
  },
  {
   "cell_type": "code",
   "execution_count": 42,
   "metadata": {},
   "outputs": [
    {
     "data": {
      "text/plain": [
       "\n",
       "Keep related supplies in the same area.,\n",
       "Make an effort to clean a dedicated workspace after every session.,\n",
       "Place loose supplies in large, clearly visible containers.,\n",
       "Use clotheslines and clips to hang sketches, photos, and reference material.,\n",
       "Use every inch of the room for storage, especially vertical space.,\n",
       "Use chalkboard paint to make space for drafting ideas right on the walls.,\n",
       "Purchase a label maker to make your organization strategy semi-permanent.,\n",
       "Make a habit of throwing out old, excess, or useless stuff each month."
      ]
     },
     "execution_count": 42,
     "metadata": {},
     "output_type": "execute_result"
    }
   ],
   "source": [
    "nlp(articles.iloc[0]['headline'])"
   ]
  },
  {
   "cell_type": "code",
   "execution_count": 45,
   "metadata": {},
   "outputs": [
    {
     "data": {
      "text/plain": [
       "array([-2.14049383e-03,  1.20533675e-01, -1.50411963e-01, -2.95907892e-02,\n",
       "        5.36861718e-02,  1.87308304e-02, -6.58619851e-02, -1.11265108e-01,\n",
       "       -5.44577129e-02,  1.81314087e+00, -1.56057566e-01,  7.46618360e-02,\n",
       "        5.50983138e-02, -5.07150292e-02, -1.08529627e-01, -7.27834404e-02,\n",
       "       -2.78506801e-02,  1.32611310e+00, -1.87722608e-01,  1.68871153e-02,\n",
       "       -1.80466007e-02,  7.95699731e-02, -2.61089355e-02, -4.26516421e-02,\n",
       "        5.39166480e-02,  4.90100309e-03, -1.93231814e-02, -3.00815478e-02,\n",
       "        6.83127269e-02, -1.12207130e-01,  2.01380365e-02, -8.36755894e-03,\n",
       "       -8.37247446e-02,  1.17265426e-01,  8.59610960e-02, -1.14325628e-01,\n",
       "        1.02570681e-02,  2.87171900e-02, -9.53881163e-03, -3.63615490e-02,\n",
       "       -8.56569931e-02,  1.22249767e-01,  3.23277805e-03, -1.01762362e-01,\n",
       "       -5.48178852e-02,  2.22754292e-02, -1.04785562e-01,  1.43406785e-03,\n",
       "        3.80684845e-02,  1.15816528e-02,  4.88370322e-02,  2.40807012e-02,\n",
       "        5.68812415e-02,  5.43523282e-02, -2.79298816e-02, -2.66175475e-02,\n",
       "        3.32368501e-02, -7.77427405e-02,  4.34629321e-02, -2.44106930e-02,\n",
       "       -7.79501442e-03, -3.04372353e-03,  2.35814005e-02,  1.95763320e-01,\n",
       "        9.90002826e-02, -9.99279767e-02, -4.75294292e-02,  8.76834616e-02,\n",
       "        2.57468820e-02,  1.37732074e-01,  4.64438051e-02,  1.01237400e-02,\n",
       "        1.52161717e-01, -6.11006916e-02,  8.73907730e-02,  6.35224804e-02,\n",
       "        5.48243113e-02, -1.46607816e-01, -2.19641179e-02,  1.42627910e-01,\n",
       "       -8.75905007e-02,  5.52424639e-02, -2.91194413e-02, -9.87236574e-03,\n",
       "       -6.30938262e-02, -1.43662274e-01,  5.24741895e-02,  2.17571676e-01,\n",
       "        3.10707629e-01,  9.89542454e-02, -8.15347116e-03, -1.10768350e-02,\n",
       "        3.45367491e-02,  2.19477769e-02,  5.67514785e-02, -5.44263124e-02,\n",
       "       -5.58888875e-02,  2.45305654e-02, -3.60923931e-02, -7.93456882e-02,\n",
       "       -1.10774569e-03,  2.46791840e-02, -1.47404790e-01, -5.16316742e-02,\n",
       "        6.50009140e-02, -6.35276556e-01,  1.01044334e-01,  7.08960146e-02,\n",
       "        1.19111925e-01,  3.12535912e-02,  3.71310934e-02, -1.00819044e-01,\n",
       "        1.24896608e-01, -1.35984823e-01, -2.46750060e-02, -3.60222645e-02,\n",
       "        1.03416815e-02, -2.56767310e-02, -2.06067543e-02, -5.29350759e-03,\n",
       "        6.03655577e-02,  3.64390295e-03,  2.41017938e-02,  9.52836871e-02,\n",
       "       -4.48496416e-02,  6.57553822e-02, -1.07691288e-02, -6.35805279e-02,\n",
       "        9.69652086e-02,  3.03820129e-02, -2.72823423e-02, -2.51068547e-02,\n",
       "       -4.39491123e-02,  1.29372505e-02, -1.40688363e-02,  1.15659513e-01,\n",
       "        7.71275675e-03, -1.01043116e-02,  7.72424415e-02,  1.03923054e-02,\n",
       "       -9.47322190e-01,  1.21741824e-01,  1.25028357e-01,  6.08835835e-03,\n",
       "       -3.90033685e-02,  2.33609639e-02, -2.24331226e-02, -7.80027360e-02,\n",
       "        6.90266714e-02, -5.41654881e-04,  1.75964236e-02,  4.72258516e-02,\n",
       "        1.32498637e-01, -1.43863703e-03, -1.24285854e-01,  2.79660989e-02,\n",
       "        5.36240358e-03, -3.05568241e-02, -3.59687805e-02, -1.29228681e-02,\n",
       "       -5.07918186e-02,  4.76844870e-02, -5.17842323e-02, -1.65143590e-02,\n",
       "       -5.42803854e-02, -1.14537589e-01,  5.53551018e-02,  4.68767360e-02,\n",
       "        1.42573729e-01,  4.41466272e-02,  1.84770841e-02, -1.70255620e-02,\n",
       "       -3.31199239e-03,  2.38378309e-02, -5.17730266e-02,  6.39502779e-02,\n",
       "       -8.80014896e-02,  1.35092586e-02,  1.92401353e-02, -3.82183790e-02,\n",
       "        1.78504214e-02, -7.43113458e-02, -4.21151109e-02, -1.06987707e-01,\n",
       "        1.45504372e-02, -5.31162769e-02, -1.93153005e-02, -5.51361730e-03,\n",
       "        6.88253809e-03, -4.32292037e-02, -4.98124063e-02,  7.72942528e-02,\n",
       "       -9.13585350e-03,  3.51435952e-02,  1.16760815e-02,  1.14993550e-01,\n",
       "       -2.71977019e-02, -5.65197431e-02, -5.07783592e-02,  1.57003254e-01,\n",
       "        4.01337184e-02, -5.05067594e-02, -6.97619980e-03, -3.40573229e-02,\n",
       "        2.36664250e-01,  1.92977339e-02,  3.20721976e-02, -2.11801138e-02,\n",
       "       -1.94932066e-03, -1.30944373e-02, -3.25564332e-02, -5.98751679e-02,\n",
       "       -5.84481889e-03, -1.85558289e-01,  8.88677910e-02,  1.55842304e-01,\n",
       "       -2.40307022e-02,  5.27648143e-02, -1.76652998e-01,  1.33444546e-02,\n",
       "        4.42167521e-02, -1.55666443e-02, -4.15725261e-02,  7.31890500e-02,\n",
       "        4.63883057e-02, -2.23826561e-02, -1.53871987e-03,  8.34316984e-02,\n",
       "       -6.20605238e-02,  7.95355253e-03, -1.85790751e-02, -1.96074285e-02,\n",
       "        5.32733127e-02,  7.54183084e-02, -5.83288400e-03, -3.21499221e-02,\n",
       "        4.86895302e-03, -8.77148006e-03,  3.65373259e-03,  4.35994286e-03,\n",
       "        5.98366894e-02,  7.60368630e-02, -4.18963435e-04,  4.76450920e-02,\n",
       "        1.33637726e-01, -4.32887450e-02, -1.21582083e-01, -1.34124041e-01,\n",
       "       -1.58152565e-01,  1.10267550e-01,  2.87410337e-02,  4.58871759e-03,\n",
       "       -1.09399386e-01, -1.34998169e-02,  5.42892814e-02,  2.31561497e-01,\n",
       "        7.25678802e-02, -6.77985400e-02, -7.89693743e-02,  3.83277237e-02,\n",
       "        8.28242451e-02,  1.27524495e-01,  2.87448745e-02,  5.72176576e-02,\n",
       "        3.32143605e-02, -3.17846015e-02, -3.97721529e-02, -1.85236186e-02,\n",
       "        2.52315313e-01,  2.09698379e-02,  1.87939163e-02, -4.83534113e-02,\n",
       "        1.39111292e-03, -1.78536758e-01, -1.24353625e-01, -9.46605504e-02,\n",
       "        1.21561801e-02,  1.06044017e-01, -1.49283223e-02,  7.77543932e-02,\n",
       "        2.12029234e-01,  4.71814629e-03,  2.03117840e-02, -8.90200362e-02,\n",
       "       -7.18013644e-02, -9.58429500e-02,  9.58340988e-02, -1.02576815e-01,\n",
       "        1.47607505e-01, -8.36754292e-02, -1.77187711e-01,  2.10746489e-02,\n",
       "        5.12894019e-02, -1.16187641e-02, -1.47907093e-01,  2.03188881e-02,\n",
       "       -2.64855046e-02, -7.96032771e-02, -6.68167844e-02,  1.11925133e-01],\n",
       "      dtype=float32)"
      ]
     },
     "execution_count": 45,
     "metadata": {},
     "output_type": "execute_result"
    }
   ],
   "source": [
    "nlp(articles.iloc[0]['headline']).vector"
   ]
  },
  {
   "cell_type": "markdown",
   "metadata": {},
   "source": [
    "How many megabytes needed to form a matrix with one article per row and one float32 from the document vector in each column:"
   ]
  },
  {
   "cell_type": "code",
   "execution_count": 237,
   "metadata": {},
   "outputs": [],
   "source": [
    "articles_sample = articles.sample(n=10000)"
   ]
  },
  {
   "cell_type": "code",
   "execution_count": 238,
   "metadata": {},
   "outputs": [],
   "source": [
    "articles_vectors = articles_sample['headline'].apply(lambda headline : nlp(headline).vector)"
   ]
  },
  {
   "cell_type": "code",
   "execution_count": 60,
   "metadata": {},
   "outputs": [],
   "source": [
    "import numpy as np"
   ]
  },
  {
   "cell_type": "code",
   "execution_count": 50,
   "metadata": {},
   "outputs": [],
   "source": [
    "from sklearn.cluster import KMeans"
   ]
  },
  {
   "cell_type": "code",
   "execution_count": 239,
   "metadata": {},
   "outputs": [],
   "source": [
    "kmeans = KMeans(n_clusters=10, random_state=0).fit(np.stack(articles_vectors.to_numpy()))"
   ]
  },
  {
   "cell_type": "code",
   "execution_count": 240,
   "metadata": {},
   "outputs": [
    {
     "data": {
      "text/plain": [
       "array([8, 7, 8, ..., 0, 4, 3], dtype=int32)"
      ]
     },
     "execution_count": 240,
     "metadata": {},
     "output_type": "execute_result"
    }
   ],
   "source": [
    "kmeans.labels_"
   ]
  },
  {
   "cell_type": "code",
   "execution_count": 194,
   "metadata": {},
   "outputs": [],
   "source": [
    "from sklearn.feature_extraction.text import TfidfVectorizer"
   ]
  },
  {
   "cell_type": "code",
   "execution_count": 241,
   "metadata": {},
   "outputs": [],
   "source": [
    "vectorizer=TfidfVectorizer(use_idf=True, stop_words=spacy.lang.en.stop_words.STOP_WORDS)"
   ]
  },
  {
   "cell_type": "code",
   "execution_count": 242,
   "metadata": {},
   "outputs": [],
   "source": [
    "cluster_docs = [ '\\n'.join(articles_sample[kmeans.labels_ == ix].headline) for ix in range(0, max(kmeans.labels_) + 1) ]"
   ]
  },
  {
   "cell_type": "code",
   "execution_count": 243,
   "metadata": {},
   "outputs": [
    {
     "data": {
      "text/plain": [
       "10"
      ]
     },
     "execution_count": 243,
     "metadata": {},
     "output_type": "execute_result"
    }
   ],
   "source": [
    "len(cluster_docs)"
   ]
  },
  {
   "cell_type": "code",
   "execution_count": 244,
   "metadata": {},
   "outputs": [
    {
     "name": "stderr",
     "output_type": "stream",
     "text": [
      "/opt/conda/lib/python3.7/site-packages/sklearn/feature_extraction/text.py:385: UserWarning: Your stop_words may be inconsistent with your preprocessing. Tokenizing the stop words generated tokens ['ll', 've'] not in stop_words.\n",
      "  'stop_words.' % sorted(inconsistent))\n"
     ]
    },
    {
     "data": {
      "text/plain": [
       "TfidfVectorizer(analyzer='word', binary=False, decode_error='strict',\n",
       "                dtype=<class 'numpy.float64'>, encoding='utf-8',\n",
       "                input='content', lowercase=True, max_df=1.0, max_features=None,\n",
       "                min_df=1, ngram_range=(1, 1), norm='l2', preprocessor=None,\n",
       "                smooth_idf=True,\n",
       "                stop_words={\"'d\", \"'ll\", \"'m\", \"'re\", \"'s\", \"'ve\", 'a', 'about',\n",
       "                            'above', 'across', 'after', 'afterwards', 'again',\n",
       "                            'against', 'all', 'almost', 'alone', 'along',\n",
       "                            'already', 'also', 'although', 'always', 'am',\n",
       "                            'among', 'amongst', 'amount', 'an', 'and',\n",
       "                            'another', 'any', ...},\n",
       "                strip_accents=None, sublinear_tf=False,\n",
       "                token_pattern='(?u)\\\\b\\\\w\\\\w+\\\\b', tokenizer=None, use_idf=True,\n",
       "                vocabulary=None)"
      ]
     },
     "execution_count": 244,
     "metadata": {},
     "output_type": "execute_result"
    }
   ],
   "source": [
    "vectorizer.fit(articles_sample.headline)"
   ]
  },
  {
   "cell_type": "code",
   "execution_count": 245,
   "metadata": {},
   "outputs": [],
   "source": [
    "X=vectorizer.transform([nlp(doc).text for doc in cluster_docs])"
   ]
  },
  {
   "cell_type": "code",
   "execution_count": 246,
   "metadata": {},
   "outputs": [
    {
     "data": {
      "text/plain": [
       "<10x22575 sparse matrix of type '<class 'numpy.float64'>'\n",
       "\twith 53544 stored elements in Compressed Sparse Row format>"
      ]
     },
     "execution_count": 246,
     "metadata": {},
     "output_type": "execute_result"
    }
   ],
   "source": [
    "X"
   ]
  },
  {
   "cell_type": "code",
   "execution_count": 247,
   "metadata": {},
   "outputs": [],
   "source": [
    "def defining_words(ix, X, vectorizer):\n",
    "    df = pd.DataFrame(X[ix].T.todense(), index=vectorizer.get_feature_names(), columns=[\"tfidf\"])\n",
    "    return ', '.join(list(df[df.tfidf > 0.1].sort_values(['tfidf'], ascending=False).index[:10]))"
   ]
  },
  {
   "cell_type": "code",
   "execution_count": 248,
   "metadata": {},
   "outputs": [
    {
     "name": "stdout",
     "output_type": "stream",
     "text": [
      "0\tclick, tap, select, open, button, file, menu, type, app, download\n",
      "1\thair, wear, apply, use, color, brush, choose, face, wash, shoes\n",
      "2\tdon, people, ask, time, know, person, talk, want, friends, help\n",
      "3\tdoctor, eat, symptoms, diet, dog, foods, avoid, cat, pain, use\n",
      "4\tuse, sure, find, dog, time, look, right, place, start, want\n",
      "5\tcut, draw, place, end, paper, remove, piece, fold, fabric, glue\n",
      "6\tadd, mixture, heat, minutes, bowl, pour, mix, oven, sugar, water\n",
      "7\twater, use, dry, remove, clean, oil, wash, soil, rinse, apply\n",
      "8\tlearn, use, practice, find, don, try, know, time, play, choose\n",
      "9\tinformation, determine, check, business, find, consider, online, use, company, application\n"
     ]
    }
   ],
   "source": [
    "for ix in range(0, max(kmeans.labels_) + 1):\n",
    "    words = defining_words(ix, X, vectorizer)\n",
    "    \n",
    "    print(f\"{ix}\\t{words}\")"
   ]
  },
  {
   "cell_type": "code",
   "execution_count": 254,
   "metadata": {},
   "outputs": [
    {
     "data": {
      "text/plain": [
       "[115, 177, 62, 159, 84, 83, 41, 32, 113, 94]"
      ]
     },
     "execution_count": 254,
     "metadata": {},
     "output_type": "execute_result"
    }
   ],
   "source": [
    "[len(nlp(h)) for h in articles.headline[:10]]"
   ]
  },
  {
   "cell_type": "code",
   "execution_count": 55,
   "metadata": {},
   "outputs": [],
   "source": [
    "from plotnine import ggplot, geom_bar, aes"
   ]
  },
  {
   "cell_type": "code",
   "execution_count": 47,
   "metadata": {},
   "outputs": [
    {
     "name": "stderr",
     "output_type": "stream",
     "text": [
      "/opt/conda/lib/python3.7/site-packages/tqdm/std.py:658: FutureWarning: The Panel class is removed from pandas. Accessing it from the top-level namespace will also be removed in the next version\n",
      "  from pandas import Panel\n"
     ]
    }
   ],
   "source": [
    "from tqdm.notebook import tqdm\n",
    "tqdm.pandas()"
   ]
  },
  {
   "cell_type": "code",
   "execution_count": 48,
   "metadata": {},
   "outputs": [
    {
     "data": {
      "application/vnd.jupyter.widget-view+json": {
       "model_id": "2b0daeda7cd14488bd682fb89dd3dec3",
       "version_major": 2,
       "version_minor": 0
      },
      "text/plain": [
       "HBox(children=(FloatProgress(value=0.0, max=214294.0), HTML(value='')))"
      ]
     },
     "metadata": {},
     "output_type": "display_data"
    },
    {
     "name": "stdout",
     "output_type": "stream",
     "text": [
      "\n"
     ]
    }
   ],
   "source": [
    "articles['headline_doc'] = tqdm(\n",
    "    nlp.pipe(\n",
    "        articles.headline,\n",
    "        disable=[\"tagger\", \"parser\", \"ner\", \"textcat\"]\n",
    "    ),\n",
    "    total=len(articles)\n",
    ")"
   ]
  },
  {
   "cell_type": "code",
   "execution_count": 49,
   "metadata": {},
   "outputs": [
    {
     "data": {
      "text/plain": [
       "214294"
      ]
     },
     "execution_count": 49,
     "metadata": {},
     "output_type": "execute_result"
    }
   ],
   "source": [
    "len(articles)"
   ]
  },
  {
   "cell_type": "code",
   "execution_count": 50,
   "metadata": {},
   "outputs": [
    {
     "data": {
      "application/vnd.jupyter.widget-view+json": {
       "model_id": "5f2595c6aa80448d92247dcb66ea1652",
       "version_major": 2,
       "version_minor": 0
      },
      "text/plain": [
       "HBox(children=(FloatProgress(value=0.0, max=214294.0), HTML(value='')))"
      ]
     },
     "metadata": {},
     "output_type": "display_data"
    },
    {
     "name": "stdout",
     "output_type": "stream",
     "text": [
      "\n"
     ]
    }
   ],
   "source": [
    "articles['text_doc'] = tqdm(\n",
    "    nlp.pipe(\n",
    "        articles.text,\n",
    "        disable=[\"tagger\", \"parser\", \"ner\", \"textcat\"]\n",
    "    ),\n",
    "    total=len(articles)\n",
    ")"
   ]
  },
  {
   "cell_type": "code",
   "execution_count": 51,
   "metadata": {},
   "outputs": [
    {
     "data": {
      "application/vnd.jupyter.widget-view+json": {
       "model_id": "dd7839c17a0141c8b4fd270ab33a6af6",
       "version_major": 2,
       "version_minor": 0
      },
      "text/plain": [
       "HBox(children=(FloatProgress(value=0.0, max=214294.0), HTML(value='')))"
      ]
     },
     "metadata": {},
     "output_type": "display_data"
    },
    {
     "name": "stdout",
     "output_type": "stream",
     "text": [
      "\n"
     ]
    },
    {
     "data": {
      "application/vnd.jupyter.widget-view+json": {
       "model_id": "8f792ecdf5e34d84b57911bdc85b685d",
       "version_major": 2,
       "version_minor": 0
      },
      "text/plain": [
       "HBox(children=(FloatProgress(value=0.0, max=214294.0), HTML(value='')))"
      ]
     },
     "metadata": {},
     "output_type": "display_data"
    },
    {
     "name": "stdout",
     "output_type": "stream",
     "text": [
      "\n"
     ]
    }
   ],
   "source": [
    "df_lengths = pd.DataFrame({\n",
    "    'headline_length': articles.headline_doc.progress_apply(lambda d: len(d)),\n",
    "    'text_length':     articles.text_doc.progress_apply(lambda d: len(d))\n",
    "})"
   ]
  },
  {
   "cell_type": "code",
   "execution_count": 57,
   "metadata": {},
   "outputs": [
    {
     "ename": "PlotnineError",
     "evalue": "'stat_count() must not be used with a y aesthetic'",
     "output_type": "error",
     "traceback": [
      "\u001b[0;31m---------------------------------------------------------------------------\u001b[0m",
      "\u001b[0;31mPlotnineError\u001b[0m                             Traceback (most recent call last)",
      "\u001b[0;32m/opt/conda/lib/python3.7/site-packages/IPython/core/formatters.py\u001b[0m in \u001b[0;36m__call__\u001b[0;34m(self, obj)\u001b[0m\n\u001b[1;32m    700\u001b[0m                 \u001b[0mtype_pprinters\u001b[0m\u001b[0;34m=\u001b[0m\u001b[0mself\u001b[0m\u001b[0;34m.\u001b[0m\u001b[0mtype_printers\u001b[0m\u001b[0;34m,\u001b[0m\u001b[0;34m\u001b[0m\u001b[0;34m\u001b[0m\u001b[0m\n\u001b[1;32m    701\u001b[0m                 deferred_pprinters=self.deferred_printers)\n\u001b[0;32m--> 702\u001b[0;31m             \u001b[0mprinter\u001b[0m\u001b[0;34m.\u001b[0m\u001b[0mpretty\u001b[0m\u001b[0;34m(\u001b[0m\u001b[0mobj\u001b[0m\u001b[0;34m)\u001b[0m\u001b[0;34m\u001b[0m\u001b[0;34m\u001b[0m\u001b[0m\n\u001b[0m\u001b[1;32m    703\u001b[0m             \u001b[0mprinter\u001b[0m\u001b[0;34m.\u001b[0m\u001b[0mflush\u001b[0m\u001b[0;34m(\u001b[0m\u001b[0;34m)\u001b[0m\u001b[0;34m\u001b[0m\u001b[0;34m\u001b[0m\u001b[0m\n\u001b[1;32m    704\u001b[0m             \u001b[0;32mreturn\u001b[0m \u001b[0mstream\u001b[0m\u001b[0;34m.\u001b[0m\u001b[0mgetvalue\u001b[0m\u001b[0;34m(\u001b[0m\u001b[0;34m)\u001b[0m\u001b[0;34m\u001b[0m\u001b[0;34m\u001b[0m\u001b[0m\n",
      "\u001b[0;32m/opt/conda/lib/python3.7/site-packages/IPython/lib/pretty.py\u001b[0m in \u001b[0;36mpretty\u001b[0;34m(self, obj)\u001b[0m\n\u001b[1;32m    397\u001b[0m                         \u001b[0;32mif\u001b[0m \u001b[0mcls\u001b[0m \u001b[0;32mis\u001b[0m \u001b[0;32mnot\u001b[0m \u001b[0mobject\u001b[0m\u001b[0;31m \u001b[0m\u001b[0;31m\\\u001b[0m\u001b[0;34m\u001b[0m\u001b[0;34m\u001b[0m\u001b[0m\n\u001b[1;32m    398\u001b[0m                                 \u001b[0;32mand\u001b[0m \u001b[0mcallable\u001b[0m\u001b[0;34m(\u001b[0m\u001b[0mcls\u001b[0m\u001b[0;34m.\u001b[0m\u001b[0m__dict__\u001b[0m\u001b[0;34m.\u001b[0m\u001b[0mget\u001b[0m\u001b[0;34m(\u001b[0m\u001b[0;34m'__repr__'\u001b[0m\u001b[0;34m)\u001b[0m\u001b[0;34m)\u001b[0m\u001b[0;34m:\u001b[0m\u001b[0;34m\u001b[0m\u001b[0;34m\u001b[0m\u001b[0m\n\u001b[0;32m--> 399\u001b[0;31m                             \u001b[0;32mreturn\u001b[0m \u001b[0m_repr_pprint\u001b[0m\u001b[0;34m(\u001b[0m\u001b[0mobj\u001b[0m\u001b[0;34m,\u001b[0m \u001b[0mself\u001b[0m\u001b[0;34m,\u001b[0m \u001b[0mcycle\u001b[0m\u001b[0;34m)\u001b[0m\u001b[0;34m\u001b[0m\u001b[0;34m\u001b[0m\u001b[0m\n\u001b[0m\u001b[1;32m    400\u001b[0m \u001b[0;34m\u001b[0m\u001b[0m\n\u001b[1;32m    401\u001b[0m             \u001b[0;32mreturn\u001b[0m \u001b[0m_default_pprint\u001b[0m\u001b[0;34m(\u001b[0m\u001b[0mobj\u001b[0m\u001b[0;34m,\u001b[0m \u001b[0mself\u001b[0m\u001b[0;34m,\u001b[0m \u001b[0mcycle\u001b[0m\u001b[0;34m)\u001b[0m\u001b[0;34m\u001b[0m\u001b[0;34m\u001b[0m\u001b[0m\n",
      "\u001b[0;32m/opt/conda/lib/python3.7/site-packages/IPython/lib/pretty.py\u001b[0m in \u001b[0;36m_repr_pprint\u001b[0;34m(obj, p, cycle)\u001b[0m\n\u001b[1;32m    687\u001b[0m     \u001b[0;34m\"\"\"A pprint that just redirects to the normal repr function.\"\"\"\u001b[0m\u001b[0;34m\u001b[0m\u001b[0;34m\u001b[0m\u001b[0m\n\u001b[1;32m    688\u001b[0m     \u001b[0;31m# Find newlines and replace them with p.break_()\u001b[0m\u001b[0;34m\u001b[0m\u001b[0;34m\u001b[0m\u001b[0;34m\u001b[0m\u001b[0m\n\u001b[0;32m--> 689\u001b[0;31m     \u001b[0moutput\u001b[0m \u001b[0;34m=\u001b[0m \u001b[0mrepr\u001b[0m\u001b[0;34m(\u001b[0m\u001b[0mobj\u001b[0m\u001b[0;34m)\u001b[0m\u001b[0;34m\u001b[0m\u001b[0;34m\u001b[0m\u001b[0m\n\u001b[0m\u001b[1;32m    690\u001b[0m     \u001b[0;32mfor\u001b[0m \u001b[0midx\u001b[0m\u001b[0;34m,\u001b[0m\u001b[0moutput_line\u001b[0m \u001b[0;32min\u001b[0m \u001b[0menumerate\u001b[0m\u001b[0;34m(\u001b[0m\u001b[0moutput\u001b[0m\u001b[0;34m.\u001b[0m\u001b[0msplitlines\u001b[0m\u001b[0;34m(\u001b[0m\u001b[0;34m)\u001b[0m\u001b[0;34m)\u001b[0m\u001b[0;34m:\u001b[0m\u001b[0;34m\u001b[0m\u001b[0;34m\u001b[0m\u001b[0m\n\u001b[1;32m    691\u001b[0m         \u001b[0;32mif\u001b[0m \u001b[0midx\u001b[0m\u001b[0;34m:\u001b[0m\u001b[0;34m\u001b[0m\u001b[0;34m\u001b[0m\u001b[0m\n",
      "\u001b[0;32m/opt/conda/lib/python3.7/site-packages/plotnine/ggplot.py\u001b[0m in \u001b[0;36m__repr__\u001b[0;34m(self)\u001b[0m\n\u001b[1;32m     86\u001b[0m         \u001b[0;31m# in the jupyter notebook.\u001b[0m\u001b[0;34m\u001b[0m\u001b[0;34m\u001b[0m\u001b[0;34m\u001b[0m\u001b[0m\n\u001b[1;32m     87\u001b[0m         \u001b[0;32mif\u001b[0m \u001b[0;32mnot\u001b[0m \u001b[0mself\u001b[0m\u001b[0;34m.\u001b[0m\u001b[0mfigure\u001b[0m\u001b[0;34m:\u001b[0m\u001b[0;34m\u001b[0m\u001b[0;34m\u001b[0m\u001b[0m\n\u001b[0;32m---> 88\u001b[0;31m             \u001b[0mself\u001b[0m\u001b[0;34m.\u001b[0m\u001b[0mdraw\u001b[0m\u001b[0;34m(\u001b[0m\u001b[0;34m)\u001b[0m\u001b[0;34m\u001b[0m\u001b[0;34m\u001b[0m\u001b[0m\n\u001b[0m\u001b[1;32m     89\u001b[0m         \u001b[0mplt\u001b[0m\u001b[0;34m.\u001b[0m\u001b[0mshow\u001b[0m\u001b[0;34m(\u001b[0m\u001b[0;34m)\u001b[0m\u001b[0;34m\u001b[0m\u001b[0;34m\u001b[0m\u001b[0m\n\u001b[1;32m     90\u001b[0m         \u001b[0;32mreturn\u001b[0m \u001b[0;34m'<ggplot: (%d)>'\u001b[0m \u001b[0;34m%\u001b[0m \u001b[0mself\u001b[0m\u001b[0;34m.\u001b[0m\u001b[0m__hash__\u001b[0m\u001b[0;34m(\u001b[0m\u001b[0;34m)\u001b[0m\u001b[0;34m\u001b[0m\u001b[0;34m\u001b[0m\u001b[0m\n",
      "\u001b[0;32m/opt/conda/lib/python3.7/site-packages/plotnine/ggplot.py\u001b[0m in \u001b[0;36mdraw\u001b[0;34m(self, return_ggplot)\u001b[0m\n\u001b[1;32m    179\u001b[0m         \u001b[0;31m# new frames knowing that they are separate from the original.\u001b[0m\u001b[0;34m\u001b[0m\u001b[0;34m\u001b[0m\u001b[0;34m\u001b[0m\u001b[0m\n\u001b[1;32m    180\u001b[0m         \u001b[0;32mwith\u001b[0m \u001b[0mpd\u001b[0m\u001b[0;34m.\u001b[0m\u001b[0moption_context\u001b[0m\u001b[0;34m(\u001b[0m\u001b[0;34m'mode.chained_assignment'\u001b[0m\u001b[0;34m,\u001b[0m \u001b[0;32mNone\u001b[0m\u001b[0;34m)\u001b[0m\u001b[0;34m:\u001b[0m\u001b[0;34m\u001b[0m\u001b[0;34m\u001b[0m\u001b[0m\n\u001b[0;32m--> 181\u001b[0;31m             \u001b[0;32mreturn\u001b[0m \u001b[0mself\u001b[0m\u001b[0;34m.\u001b[0m\u001b[0m_draw\u001b[0m\u001b[0;34m(\u001b[0m\u001b[0mreturn_ggplot\u001b[0m\u001b[0;34m)\u001b[0m\u001b[0;34m\u001b[0m\u001b[0;34m\u001b[0m\u001b[0m\n\u001b[0m\u001b[1;32m    182\u001b[0m \u001b[0;34m\u001b[0m\u001b[0m\n\u001b[1;32m    183\u001b[0m     \u001b[0;32mdef\u001b[0m \u001b[0m_draw\u001b[0m\u001b[0;34m(\u001b[0m\u001b[0mself\u001b[0m\u001b[0;34m,\u001b[0m \u001b[0mreturn_ggplot\u001b[0m\u001b[0;34m=\u001b[0m\u001b[0;32mFalse\u001b[0m\u001b[0;34m)\u001b[0m\u001b[0;34m:\u001b[0m\u001b[0;34m\u001b[0m\u001b[0;34m\u001b[0m\u001b[0m\n",
      "\u001b[0;32m/opt/conda/lib/python3.7/site-packages/plotnine/ggplot.py\u001b[0m in \u001b[0;36m_draw\u001b[0;34m(self, return_ggplot)\u001b[0m\n\u001b[1;32m    186\u001b[0m         \u001b[0;31m# assign a default theme\u001b[0m\u001b[0;34m\u001b[0m\u001b[0;34m\u001b[0m\u001b[0;34m\u001b[0m\u001b[0m\n\u001b[1;32m    187\u001b[0m         \u001b[0mself\u001b[0m \u001b[0;34m=\u001b[0m \u001b[0mdeepcopy\u001b[0m\u001b[0;34m(\u001b[0m\u001b[0mself\u001b[0m\u001b[0;34m)\u001b[0m\u001b[0;34m\u001b[0m\u001b[0;34m\u001b[0m\u001b[0m\n\u001b[0;32m--> 188\u001b[0;31m         \u001b[0mself\u001b[0m\u001b[0;34m.\u001b[0m\u001b[0m_build\u001b[0m\u001b[0;34m(\u001b[0m\u001b[0;34m)\u001b[0m\u001b[0;34m\u001b[0m\u001b[0;34m\u001b[0m\u001b[0m\n\u001b[0m\u001b[1;32m    189\u001b[0m \u001b[0;34m\u001b[0m\u001b[0m\n\u001b[1;32m    190\u001b[0m         \u001b[0;31m# If no theme we use the default\u001b[0m\u001b[0;34m\u001b[0m\u001b[0;34m\u001b[0m\u001b[0;34m\u001b[0m\u001b[0m\n",
      "\u001b[0;32m/opt/conda/lib/python3.7/site-packages/plotnine/ggplot.py\u001b[0m in \u001b[0;36m_build\u001b[0;34m(self)\u001b[0m\n\u001b[1;32m    297\u001b[0m \u001b[0;34m\u001b[0m\u001b[0m\n\u001b[1;32m    298\u001b[0m         \u001b[0;31m# Apply and map statistics\u001b[0m\u001b[0;34m\u001b[0m\u001b[0;34m\u001b[0m\u001b[0;34m\u001b[0m\u001b[0m\n\u001b[0;32m--> 299\u001b[0;31m         \u001b[0mlayers\u001b[0m\u001b[0;34m.\u001b[0m\u001b[0mcompute_statistic\u001b[0m\u001b[0;34m(\u001b[0m\u001b[0mlayout\u001b[0m\u001b[0;34m)\u001b[0m\u001b[0;34m\u001b[0m\u001b[0;34m\u001b[0m\u001b[0m\n\u001b[0m\u001b[1;32m    300\u001b[0m         \u001b[0mlayers\u001b[0m\u001b[0;34m.\u001b[0m\u001b[0mmap_statistic\u001b[0m\u001b[0;34m(\u001b[0m\u001b[0mself\u001b[0m\u001b[0;34m)\u001b[0m\u001b[0;34m\u001b[0m\u001b[0;34m\u001b[0m\u001b[0m\n\u001b[1;32m    301\u001b[0m \u001b[0;34m\u001b[0m\u001b[0m\n",
      "\u001b[0;32m/opt/conda/lib/python3.7/site-packages/plotnine/layer.py\u001b[0m in \u001b[0;36mcompute_statistic\u001b[0;34m(self, layout)\u001b[0m\n\u001b[1;32m     84\u001b[0m     \u001b[0;32mdef\u001b[0m \u001b[0mcompute_statistic\u001b[0m\u001b[0;34m(\u001b[0m\u001b[0mself\u001b[0m\u001b[0;34m,\u001b[0m \u001b[0mlayout\u001b[0m\u001b[0;34m)\u001b[0m\u001b[0;34m:\u001b[0m\u001b[0;34m\u001b[0m\u001b[0;34m\u001b[0m\u001b[0m\n\u001b[1;32m     85\u001b[0m         \u001b[0;32mfor\u001b[0m \u001b[0ml\u001b[0m \u001b[0;32min\u001b[0m \u001b[0mself\u001b[0m\u001b[0;34m:\u001b[0m\u001b[0;34m\u001b[0m\u001b[0;34m\u001b[0m\u001b[0m\n\u001b[0;32m---> 86\u001b[0;31m             \u001b[0ml\u001b[0m\u001b[0;34m.\u001b[0m\u001b[0mcompute_statistic\u001b[0m\u001b[0;34m(\u001b[0m\u001b[0mlayout\u001b[0m\u001b[0;34m)\u001b[0m\u001b[0;34m\u001b[0m\u001b[0;34m\u001b[0m\u001b[0m\n\u001b[0m\u001b[1;32m     87\u001b[0m \u001b[0;34m\u001b[0m\u001b[0m\n\u001b[1;32m     88\u001b[0m     \u001b[0;32mdef\u001b[0m \u001b[0mmap_statistic\u001b[0m\u001b[0;34m(\u001b[0m\u001b[0mself\u001b[0m\u001b[0;34m,\u001b[0m \u001b[0mplot\u001b[0m\u001b[0;34m)\u001b[0m\u001b[0;34m:\u001b[0m\u001b[0;34m\u001b[0m\u001b[0;34m\u001b[0m\u001b[0m\n",
      "\u001b[0;32m/opt/conda/lib/python3.7/site-packages/plotnine/layer.py\u001b[0m in \u001b[0;36mcompute_statistic\u001b[0;34m(self, layout)\u001b[0m\n\u001b[1;32m    358\u001b[0m         \u001b[0mdata\u001b[0m \u001b[0;34m=\u001b[0m \u001b[0mself\u001b[0m\u001b[0;34m.\u001b[0m\u001b[0mstat\u001b[0m\u001b[0;34m.\u001b[0m\u001b[0muse_defaults\u001b[0m\u001b[0;34m(\u001b[0m\u001b[0mdata\u001b[0m\u001b[0;34m)\u001b[0m\u001b[0;34m\u001b[0m\u001b[0;34m\u001b[0m\u001b[0m\n\u001b[1;32m    359\u001b[0m         \u001b[0mdata\u001b[0m \u001b[0;34m=\u001b[0m \u001b[0mself\u001b[0m\u001b[0;34m.\u001b[0m\u001b[0mstat\u001b[0m\u001b[0;34m.\u001b[0m\u001b[0msetup_data\u001b[0m\u001b[0;34m(\u001b[0m\u001b[0mdata\u001b[0m\u001b[0;34m)\u001b[0m\u001b[0;34m\u001b[0m\u001b[0;34m\u001b[0m\u001b[0m\n\u001b[0;32m--> 360\u001b[0;31m         \u001b[0mdata\u001b[0m \u001b[0;34m=\u001b[0m \u001b[0mself\u001b[0m\u001b[0;34m.\u001b[0m\u001b[0mstat\u001b[0m\u001b[0;34m.\u001b[0m\u001b[0mcompute_layer\u001b[0m\u001b[0;34m(\u001b[0m\u001b[0mdata\u001b[0m\u001b[0;34m,\u001b[0m \u001b[0mparams\u001b[0m\u001b[0;34m,\u001b[0m \u001b[0mlayout\u001b[0m\u001b[0;34m)\u001b[0m\u001b[0;34m\u001b[0m\u001b[0;34m\u001b[0m\u001b[0m\n\u001b[0m\u001b[1;32m    361\u001b[0m         \u001b[0mself\u001b[0m\u001b[0;34m.\u001b[0m\u001b[0mdata\u001b[0m \u001b[0;34m=\u001b[0m \u001b[0mdata\u001b[0m\u001b[0;34m\u001b[0m\u001b[0;34m\u001b[0m\u001b[0m\n\u001b[1;32m    362\u001b[0m \u001b[0;34m\u001b[0m\u001b[0m\n",
      "\u001b[0;32m/opt/conda/lib/python3.7/site-packages/plotnine/stats/stat.py\u001b[0m in \u001b[0;36mcompute_layer\u001b[0;34m(cls, data, params, layout)\u001b[0m\n\u001b[1;32m    266\u001b[0m             \u001b[0;32mreturn\u001b[0m \u001b[0mcls\u001b[0m\u001b[0;34m.\u001b[0m\u001b[0mcompute_panel\u001b[0m\u001b[0;34m(\u001b[0m\u001b[0mpdata\u001b[0m\u001b[0;34m,\u001b[0m \u001b[0mpscales\u001b[0m\u001b[0;34m,\u001b[0m \u001b[0;34m**\u001b[0m\u001b[0mparams\u001b[0m\u001b[0;34m)\u001b[0m\u001b[0;34m\u001b[0m\u001b[0;34m\u001b[0m\u001b[0m\n\u001b[1;32m    267\u001b[0m \u001b[0;34m\u001b[0m\u001b[0m\n\u001b[0;32m--> 268\u001b[0;31m         \u001b[0;32mreturn\u001b[0m \u001b[0mgroupby_apply\u001b[0m\u001b[0;34m(\u001b[0m\u001b[0mdata\u001b[0m\u001b[0;34m,\u001b[0m \u001b[0;34m'PANEL'\u001b[0m\u001b[0;34m,\u001b[0m \u001b[0mfn\u001b[0m\u001b[0;34m)\u001b[0m\u001b[0;34m\u001b[0m\u001b[0;34m\u001b[0m\u001b[0m\n\u001b[0m\u001b[1;32m    269\u001b[0m \u001b[0;34m\u001b[0m\u001b[0m\n\u001b[1;32m    270\u001b[0m     \u001b[0;34m@\u001b[0m\u001b[0mclassmethod\u001b[0m\u001b[0;34m\u001b[0m\u001b[0;34m\u001b[0m\u001b[0m\n",
      "\u001b[0;32m/opt/conda/lib/python3.7/site-packages/plotnine/utils.py\u001b[0m in \u001b[0;36mgroupby_apply\u001b[0;34m(df, cols, func, *args, **kwargs)\u001b[0m\n\u001b[1;32m    631\u001b[0m         \u001b[0;31m# function fn should be free to modify dataframe d, therefore\u001b[0m\u001b[0;34m\u001b[0m\u001b[0;34m\u001b[0m\u001b[0;34m\u001b[0m\u001b[0m\n\u001b[1;32m    632\u001b[0m         \u001b[0;31m# do not mark d as a slice of df i.e no SettingWithCopyWarning\u001b[0m\u001b[0;34m\u001b[0m\u001b[0;34m\u001b[0m\u001b[0;34m\u001b[0m\u001b[0m\n\u001b[0;32m--> 633\u001b[0;31m         \u001b[0mlst\u001b[0m\u001b[0;34m.\u001b[0m\u001b[0mappend\u001b[0m\u001b[0;34m(\u001b[0m\u001b[0mfunc\u001b[0m\u001b[0;34m(\u001b[0m\u001b[0md\u001b[0m\u001b[0;34m,\u001b[0m \u001b[0;34m*\u001b[0m\u001b[0margs\u001b[0m\u001b[0;34m,\u001b[0m \u001b[0;34m**\u001b[0m\u001b[0mkwargs\u001b[0m\u001b[0;34m)\u001b[0m\u001b[0;34m)\u001b[0m\u001b[0;34m\u001b[0m\u001b[0;34m\u001b[0m\u001b[0m\n\u001b[0m\u001b[1;32m    634\u001b[0m     \u001b[0;32mreturn\u001b[0m \u001b[0mpd\u001b[0m\u001b[0;34m.\u001b[0m\u001b[0mconcat\u001b[0m\u001b[0;34m(\u001b[0m\u001b[0mlst\u001b[0m\u001b[0;34m,\u001b[0m \u001b[0maxis\u001b[0m\u001b[0;34m=\u001b[0m\u001b[0maxis\u001b[0m\u001b[0;34m,\u001b[0m \u001b[0mignore_index\u001b[0m\u001b[0;34m=\u001b[0m\u001b[0;32mTrue\u001b[0m\u001b[0;34m)\u001b[0m\u001b[0;34m\u001b[0m\u001b[0;34m\u001b[0m\u001b[0m\n\u001b[1;32m    635\u001b[0m \u001b[0;34m\u001b[0m\u001b[0m\n",
      "\u001b[0;32m/opt/conda/lib/python3.7/site-packages/plotnine/stats/stat.py\u001b[0m in \u001b[0;36mfn\u001b[0;34m(pdata)\u001b[0m\n\u001b[1;32m    264\u001b[0m                 \u001b[0;32mreturn\u001b[0m \u001b[0mpdata\u001b[0m\u001b[0;34m\u001b[0m\u001b[0;34m\u001b[0m\u001b[0m\n\u001b[1;32m    265\u001b[0m             \u001b[0mpscales\u001b[0m \u001b[0;34m=\u001b[0m \u001b[0mlayout\u001b[0m\u001b[0;34m.\u001b[0m\u001b[0mget_scales\u001b[0m\u001b[0;34m(\u001b[0m\u001b[0mpdata\u001b[0m\u001b[0;34m[\u001b[0m\u001b[0;34m'PANEL'\u001b[0m\u001b[0;34m]\u001b[0m\u001b[0;34m.\u001b[0m\u001b[0miat\u001b[0m\u001b[0;34m[\u001b[0m\u001b[0;36m0\u001b[0m\u001b[0;34m]\u001b[0m\u001b[0;34m)\u001b[0m\u001b[0;34m\u001b[0m\u001b[0;34m\u001b[0m\u001b[0m\n\u001b[0;32m--> 266\u001b[0;31m             \u001b[0;32mreturn\u001b[0m \u001b[0mcls\u001b[0m\u001b[0;34m.\u001b[0m\u001b[0mcompute_panel\u001b[0m\u001b[0;34m(\u001b[0m\u001b[0mpdata\u001b[0m\u001b[0;34m,\u001b[0m \u001b[0mpscales\u001b[0m\u001b[0;34m,\u001b[0m \u001b[0;34m**\u001b[0m\u001b[0mparams\u001b[0m\u001b[0;34m)\u001b[0m\u001b[0;34m\u001b[0m\u001b[0;34m\u001b[0m\u001b[0m\n\u001b[0m\u001b[1;32m    267\u001b[0m \u001b[0;34m\u001b[0m\u001b[0m\n\u001b[1;32m    268\u001b[0m         \u001b[0;32mreturn\u001b[0m \u001b[0mgroupby_apply\u001b[0m\u001b[0;34m(\u001b[0m\u001b[0mdata\u001b[0m\u001b[0;34m,\u001b[0m \u001b[0;34m'PANEL'\u001b[0m\u001b[0;34m,\u001b[0m \u001b[0mfn\u001b[0m\u001b[0;34m)\u001b[0m\u001b[0;34m\u001b[0m\u001b[0;34m\u001b[0m\u001b[0m\n",
      "\u001b[0;32m/opt/conda/lib/python3.7/site-packages/plotnine/stats/stat.py\u001b[0m in \u001b[0;36mcompute_panel\u001b[0;34m(cls, data, scales, **params)\u001b[0m\n\u001b[1;32m    297\u001b[0m         \u001b[0mstats\u001b[0m \u001b[0;34m=\u001b[0m \u001b[0;34m[\u001b[0m\u001b[0;34m]\u001b[0m\u001b[0;34m\u001b[0m\u001b[0;34m\u001b[0m\u001b[0m\n\u001b[1;32m    298\u001b[0m         \u001b[0;32mfor\u001b[0m \u001b[0m_\u001b[0m\u001b[0;34m,\u001b[0m \u001b[0mold\u001b[0m \u001b[0;32min\u001b[0m \u001b[0mdata\u001b[0m\u001b[0;34m.\u001b[0m\u001b[0mgroupby\u001b[0m\u001b[0;34m(\u001b[0m\u001b[0;34m'group'\u001b[0m\u001b[0;34m)\u001b[0m\u001b[0;34m:\u001b[0m\u001b[0;34m\u001b[0m\u001b[0;34m\u001b[0m\u001b[0m\n\u001b[0;32m--> 299\u001b[0;31m             \u001b[0mnew\u001b[0m \u001b[0;34m=\u001b[0m \u001b[0mcls\u001b[0m\u001b[0;34m.\u001b[0m\u001b[0mcompute_group\u001b[0m\u001b[0;34m(\u001b[0m\u001b[0mold\u001b[0m\u001b[0;34m,\u001b[0m \u001b[0mscales\u001b[0m\u001b[0;34m,\u001b[0m \u001b[0;34m**\u001b[0m\u001b[0mparams\u001b[0m\u001b[0;34m)\u001b[0m\u001b[0;34m\u001b[0m\u001b[0;34m\u001b[0m\u001b[0m\n\u001b[0m\u001b[1;32m    300\u001b[0m             \u001b[0munique\u001b[0m \u001b[0;34m=\u001b[0m \u001b[0muniquecols\u001b[0m\u001b[0;34m(\u001b[0m\u001b[0mold\u001b[0m\u001b[0;34m)\u001b[0m\u001b[0;34m\u001b[0m\u001b[0;34m\u001b[0m\u001b[0m\n\u001b[1;32m    301\u001b[0m             \u001b[0mmissing\u001b[0m \u001b[0;34m=\u001b[0m \u001b[0munique\u001b[0m\u001b[0;34m.\u001b[0m\u001b[0mcolumns\u001b[0m\u001b[0;34m.\u001b[0m\u001b[0mdifference\u001b[0m\u001b[0;34m(\u001b[0m\u001b[0mnew\u001b[0m\u001b[0;34m.\u001b[0m\u001b[0mcolumns\u001b[0m\u001b[0;34m)\u001b[0m\u001b[0;34m\u001b[0m\u001b[0;34m\u001b[0m\u001b[0m\n",
      "\u001b[0;32m/opt/conda/lib/python3.7/site-packages/plotnine/stats/stat_count.py\u001b[0m in \u001b[0;36mcompute_group\u001b[0;34m(cls, data, scales, **params)\u001b[0m\n\u001b[1;32m     50\u001b[0m         \u001b[0;32mif\u001b[0m \u001b[0;34m(\u001b[0m\u001b[0;34m'y'\u001b[0m \u001b[0;32min\u001b[0m \u001b[0mdata\u001b[0m\u001b[0;34m)\u001b[0m \u001b[0;32mor\u001b[0m \u001b[0;34m(\u001b[0m\u001b[0;34m'y'\u001b[0m \u001b[0;32min\u001b[0m \u001b[0mparams\u001b[0m\u001b[0;34m)\u001b[0m\u001b[0;34m:\u001b[0m\u001b[0;34m\u001b[0m\u001b[0;34m\u001b[0m\u001b[0m\n\u001b[1;32m     51\u001b[0m             \u001b[0mmsg\u001b[0m \u001b[0;34m=\u001b[0m \u001b[0;34m'stat_count() must not be used with a y aesthetic'\u001b[0m\u001b[0;34m\u001b[0m\u001b[0;34m\u001b[0m\u001b[0m\n\u001b[0;32m---> 52\u001b[0;31m             \u001b[0;32mraise\u001b[0m \u001b[0mPlotnineError\u001b[0m\u001b[0;34m(\u001b[0m\u001b[0mmsg\u001b[0m\u001b[0;34m)\u001b[0m\u001b[0;34m\u001b[0m\u001b[0;34m\u001b[0m\u001b[0m\n\u001b[0m\u001b[1;32m     53\u001b[0m \u001b[0;34m\u001b[0m\u001b[0m\n\u001b[1;32m     54\u001b[0m         \u001b[0mweight\u001b[0m \u001b[0;34m=\u001b[0m \u001b[0mdata\u001b[0m\u001b[0;34m.\u001b[0m\u001b[0mget\u001b[0m\u001b[0;34m(\u001b[0m\u001b[0;34m'weight'\u001b[0m\u001b[0;34m,\u001b[0m \u001b[0mnp\u001b[0m\u001b[0;34m.\u001b[0m\u001b[0mones\u001b[0m\u001b[0;34m(\u001b[0m\u001b[0mlen\u001b[0m\u001b[0;34m(\u001b[0m\u001b[0mx\u001b[0m\u001b[0;34m)\u001b[0m\u001b[0;34m,\u001b[0m \u001b[0mdtype\u001b[0m\u001b[0;34m=\u001b[0m\u001b[0mint\u001b[0m\u001b[0;34m)\u001b[0m\u001b[0;34m)\u001b[0m\u001b[0;34m\u001b[0m\u001b[0;34m\u001b[0m\u001b[0m\n",
      "\u001b[0;31mPlotnineError\u001b[0m: 'stat_count() must not be used with a y aesthetic'"
     ]
    }
   ],
   "source": [
    "ggplot(df_lengths) + geom_bar(aes(y='headline_length', x=df_lengths.index))"
   ]
  },
  {
   "cell_type": "markdown",
   "metadata": {},
   "source": [
    "## Reading list\n",
    "\n",
    "* [Comprehensive Guide to Text Summarization using Deep Learning in Python](https://www.analyticsvidhya.com/blog/2019/06/comprehensive-guide-text-summarization-using-deep-learning-python/)\n",
    "* [Neural Text Summarization](https://cs224d.stanford.edu/reports/urvashik.pdf)\n",
    "* [ALBERT: A Lite BERT for Self-supervised Learning of Language Representations](https://arxiv.org/abs/1909.11942)\n",
    "([HTML](https://www.arxiv-vanity.com/papers/1909.11942/))\n",
    "\n"
   ]
  },
  {
   "cell_type": "markdown",
   "metadata": {},
   "source": [
    "## Plan of attack\n",
    "\n",
    "### Architecture"
   ]
  }
 ],
 "metadata": {
  "kernelspec": {
   "display_name": "Python 3",
   "language": "python",
   "name": "python3"
  },
  "language_info": {
   "codemirror_mode": {
    "name": "ipython",
    "version": 3
   },
   "file_extension": ".py",
   "mimetype": "text/x-python",
   "name": "python",
   "nbconvert_exporter": "python",
   "pygments_lexer": "ipython3",
   "version": "3.7.4"
  }
 },
 "nbformat": 4,
 "nbformat_minor": 4
}
