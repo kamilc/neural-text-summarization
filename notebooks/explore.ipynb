{
 "cells": [
  {
   "cell_type": "markdown",
   "metadata": {},
   "source": [
    "# Neural text summarization with PyTorch\n",
    "\n",
    "## Overview\n",
    "\n",
    "## Plan of attack\n",
    "\n",
    "## Obtaining the dataset\n",
    "\n",
    "[https://github.com/mahnazkoupaee/WikiHow-Dataset](https://github.com/mahnazkoupaee/WikiHow-Dataset)\n",
    "\n",
    "> WikiHow is a new large-scale dataset using the online WikiHow (http://www.wikihow.com/) knowledge base *. The dataset is introduced in https://arxiv.org/abs/1810.09305. Please refer to the paper for more information regarding the dataset and its properties.\n",
    "> \n",
    "> Each article consists of multiple paragraphs and each paragraph starts with a sentence summarizing it. By merging the paragraphs to form the article and the paragraph outlines to form the summary, the resulting version of the dataset contains more than 200,000 long-sequence pairs.\n"
   ]
  },
  {
   "cell_type": "markdown",
   "metadata": {},
   "source": [
    "![what data represents](screen1.png)"
   ]
  },
  {
   "cell_type": "markdown",
   "metadata": {},
   "source": [
    "* https://arxiv.org/pdf/1704.04368.pdf\n",
    "* https://arxiv.org/pdf/1910.01335.pdf"
   ]
  },
  {
   "cell_type": "code",
   "execution_count": 4,
   "metadata": {},
   "outputs": [],
   "source": [
    "!bash -c 'if [[ ! -d \"data\" ]]; then mkdir data; fi'"
   ]
  },
  {
   "cell_type": "code",
   "execution_count": 5,
   "metadata": {},
   "outputs": [],
   "source": [
    "!bash -c 'if [[ ! -f \"data/wikihow.zip\" ]]; then curl -L# https://github.com/mahnazkoupaee/WikiHow-Dataset/archive/master.zip -o data/wikihow.zip; fi'"
   ]
  },
  {
   "cell_type": "code",
   "execution_count": 6,
   "metadata": {},
   "outputs": [],
   "source": [
    "!bash -c 'if [[ ! -f \"data/all_train.txt\" ]]; then cd data; unzip wikihow.zip; mv WikiHow-Dataset-master/*.txt .; rm -fr WikiHow-Dataset-master; cd -; fi'"
   ]
  },
  {
   "cell_type": "code",
   "execution_count": 7,
   "metadata": {},
   "outputs": [],
   "source": [
    "!bash -c 'if [[ ! -f \"data/wikihow.csv\" ]]; then curl -L# https://public.boxcloud.com/d/1/b1!Ubrgr_bl_IsdAW5Zl6UTxTe58keh6vAtIWUCv9ZKL5E6_01gpmB2sD-tFvEIfj3dhq1wj9Ir_0_x_oseFa_UMKwYeJezElmspBOtuFDaxGNgBpQd_fBT93gF6wzKe5AArJlzdBjOVH1WWkv6n6FSB_GzWzQlNzyTJ3ElsEZsljHPjxfChMLqBJFHc2DvTyplPXwa8lDXAqpz01A1BA3AXGAk4rxllaI1q-lhd8o8q3ICNtJhe9h03WrIhRPPMJXacRWb1iXxiTOilPu4RufcAjIq0VjzDe0qvpOY-Fz_IMymuiiva0Huf4bQjBm2tBwERne0CcpurY24ig79dwcDEicVOue_NXiaA4ZUMxNVEy6EI6y7PheXSWbY9-_4u3dR27w_wzDYqdLHs3gHckZ5NL6iFmuSnsYyFzRvbfJuI0Cjwi5g1FaudrAiDEoNHDyOmsn8bS5o53sAfcLlTgUYL9PcJ0GX-zDVzU0GS0uNRWHHsdY1ly0gCumAv-xl1bWl6dz4D-Dx6bYd31950cOr7BbJ_44xIksg5Hk7AIMttdOaAlot-NNTXechq2gqq80q8PiWVYqD5WQWx9wpZQzv9d1-FwOwcVitIUX_W--I8JvB3ttDA0qarDciGEGxdnwTA9XZ8wDC3Fz1eSGN52wEDdIDVQyEqiTH7gAXJLphV4UCIfdhoZqMrsEpfn2cRnv_f74Ttd3rOg_FstPK0wXOFVH97_rDMn3Qnp3yAqVjhMOVrm8ua6afpjaRw_1C30QDapT-eBWbOW8mOj0w7SkXUIHXmxl73Buxl4vl6oR0H9YbvKX9mJ0HTadKloN8BwRIci1a2GdIXa4F8WyTGQUqntfj3Trja9VMYYrOXYtBbi5KTUv7S1AD4_tVT4nO9XHlVVapPT8HUvP1Vzw4bfcFct2SdMMT1cLEJTvouHzYPRokoqVCFfPp11l8x848-kNaViIp8Z8ItsvJeUL5vzv67SdO7TnjtDNhDgJEWfvwNPRr2kygQcLG2FYkn9ymmv-sr8x8bgsdlPJu6QQqnYB29aEi8KgFB0h1YsNzkCT-0WOf0qssGlflTDpsNQ4HqIkcFB9u3S6bvR33Q7yX3cwV1nyi0lGdV1z0Y3CZCOw9aAWhV6KTQuRBFwSOJJ8x9Yf6khogi9e7prViIZPd2SIAyAMhkYDGs1NBzCXYh1oUhV1sFH6zeSsUoyIQAJYgf6CmVuOGFtwR23aRYJYIbbUJ2B6T0Mm92n8bcjw6eSuEcNpAVpJqVXjh/download -o data/wikihow.csv; fi'"
   ]
  },
  {
   "cell_type": "code",
   "execution_count": 3,
   "metadata": {},
   "outputs": [],
   "source": [
    "import pathlib"
   ]
  },
  {
   "cell_type": "code",
   "execution_count": 4,
   "metadata": {},
   "outputs": [],
   "source": [
    "def read_dataset(mode):\n",
    "    return pathlib.Path(f\"data/{mode}.txt\").read_text().split(\"\\n\")"
   ]
  },
  {
   "cell_type": "code",
   "execution_count": 5,
   "metadata": {},
   "outputs": [],
   "source": [
    "train, test, val, titles = [ read_dataset(mode) for mode in [\"all_train\", \"all_test\", \"all_val\", \"titles\"] ]"
   ]
  },
  {
   "cell_type": "markdown",
   "metadata": {},
   "source": [
    "## Exploring the data"
   ]
  },
  {
   "cell_type": "code",
   "execution_count": 4,
   "metadata": {},
   "outputs": [],
   "source": [
    "import random"
   ]
  },
  {
   "cell_type": "code",
   "execution_count": 5,
   "metadata": {},
   "outputs": [
    {
     "data": {
      "text/plain": [
       "['HowtoMakeWhiteSauce1',\n",
       " 'HowtoFixtheBlueScreenofDeathonWindows1',\n",
       " 'HowtoChangeKeyboardLayoutsonWindows72',\n",
       " 'HowtoSpearaFish1',\n",
       " 'HowtoRemoveSplintersinChildren3',\n",
       " 'HowtoSetUpaGoogleBusinessAccount',\n",
       " 'HowtoUseaBreastfeedingNippleShield3',\n",
       " 'HowtoMakeCrossfitLessIntimidating1',\n",
       " 'HowtoApplyforaGrant4',\n",
       " 'HowtoOrganizeYourLifeandGetRidofClutter']"
      ]
     },
     "execution_count": 5,
     "metadata": {},
     "output_type": "execute_result"
    }
   ],
   "source": [
    "random.sample(population=train, k=10)"
   ]
  },
  {
   "cell_type": "code",
   "execution_count": 13,
   "metadata": {},
   "outputs": [
    {
     "data": {
      "text/plain": [
       "['HowtoRunCrossCountry',\n",
       " 'HowtoCalculateElectronegativity3',\n",
       " 'HowtoPerformaHouseInspection2',\n",
       " 'HowtoTellifaPearlIsReal2',\n",
       " 'HowtoCleanYourOvenWithoutOdor2',\n",
       " 'HowtoBeaGolfCaddy2',\n",
       " 'HowtoUseCitrusPeelsAroundtheHouse2',\n",
       " 'HowtoGetOutofaNonCompeteAgreement3',\n",
       " 'HowtoBecomeanAmazonAssociate',\n",
       " 'HowtoChooseaHairstyleforSpring1']"
      ]
     },
     "execution_count": 13,
     "metadata": {},
     "output_type": "execute_result"
    }
   ],
   "source": [
    "random.sample(population=test, k=10)"
   ]
  },
  {
   "cell_type": "code",
   "execution_count": 14,
   "metadata": {},
   "outputs": [
    {
     "data": {
      "text/plain": [
       "['HowtoDisciplineaChildThatHasAspergers3',\n",
       " 'HowtoWriteanInsightfulSong',\n",
       " 'HowtoBecomeaSigningAgent',\n",
       " 'HowtoProgramaReplacementKeylessEntryFobfora1996Toyota4Runner',\n",
       " 'HowtoUseMobileOdinonAndroid',\n",
       " 'HowtoGiveUpSelfCriticismAsaPerfectionist3',\n",
       " 'HowtoBecomeanOrganDonorinWisconsin3',\n",
       " 'HowtoHideThingsinaBook2',\n",
       " 'HowtoStudyUsingtheGroundwaterPrinciple',\n",
       " 'HowtoGetOutofaBoringConversation']"
      ]
     },
     "execution_count": 14,
     "metadata": {},
     "output_type": "execute_result"
    }
   ],
   "source": [
    "random.sample(population=val, k=10)"
   ]
  },
  {
   "cell_type": "code",
   "execution_count": 15,
   "metadata": {},
   "outputs": [
    {
     "data": {
      "text/plain": [
       "['HowtoUseEmojionAndroid1',\n",
       " 'HowtoCreateaPoultice4',\n",
       " 'HowtoDyeYourHairLightBrown3',\n",
       " 'HowtoCalculateEffectiveInterestRate',\n",
       " 'HowtoRemovePaintfromWood3',\n",
       " 'HowtoStraightenYourSpine',\n",
       " 'HowtoEnrollInaTribalCollege',\n",
       " 'HowtoAddandDeleteUsersAccountsWithCommandPromptinWindows',\n",
       " 'HowtoCookGroundTurkey2',\n",
       " 'HowtoGetaPiscesMan3']"
      ]
     },
     "execution_count": 15,
     "metadata": {},
     "output_type": "execute_result"
    }
   ],
   "source": [
    "random.sample(population=titles, k=10)"
   ]
  },
  {
   "cell_type": "code",
   "execution_count": 16,
   "metadata": {},
   "outputs": [
    {
     "data": {
      "text/plain": [
       "[168128, 6000, 6000, 180129]"
      ]
     },
     "execution_count": 16,
     "metadata": {},
     "output_type": "execute_result"
    }
   ],
   "source": [
    "[ len(dataset) for dataset in [train, test, val, titles] ]"
   ]
  },
  {
   "cell_type": "code",
   "execution_count": 6,
   "metadata": {},
   "outputs": [],
   "source": [
    "import pandas as pd"
   ]
  },
  {
   "cell_type": "code",
   "execution_count": 26,
   "metadata": {},
   "outputs": [],
   "source": [
    "articles = pd.read_csv(\"data/wikihow.csv\")"
   ]
  },
  {
   "cell_type": "code",
   "execution_count": 19,
   "metadata": {},
   "outputs": [
    {
     "data": {
      "text/html": [
       "<div>\n",
       "<style scoped>\n",
       "    .dataframe tbody tr th:only-of-type {\n",
       "        vertical-align: middle;\n",
       "    }\n",
       "\n",
       "    .dataframe tbody tr th {\n",
       "        vertical-align: top;\n",
       "    }\n",
       "\n",
       "    .dataframe thead th {\n",
       "        text-align: right;\n",
       "    }\n",
       "</style>\n",
       "<table border=\"1\" class=\"dataframe\">\n",
       "  <thead>\n",
       "    <tr style=\"text-align: right;\">\n",
       "      <th></th>\n",
       "      <th>headline</th>\n",
       "      <th>title</th>\n",
       "      <th>text</th>\n",
       "    </tr>\n",
       "  </thead>\n",
       "  <tbody>\n",
       "    <tr>\n",
       "      <th>87404</th>\n",
       "      <td>\\nPreheat the oven to 400ºF.,\\nAdd the ingredi...</td>\n",
       "      <td>How to Make Healthy Vegan Chocolate Pumpkin Nu...</td>\n",
       "      <td>Prepare the cake pan. The size of the pan is ...</td>\n",
       "    </tr>\n",
       "    <tr>\n",
       "      <th>101553</th>\n",
       "      <td>\\nOpen a new blank Office Word 2007 document i...</td>\n",
       "      <td>How to Create a Brochure in Microsoft Word 20073</td>\n",
       "      <td>, The ruler at the top of the window shows the...</td>\n",
       "    </tr>\n",
       "    <tr>\n",
       "      <th>83543</th>\n",
       "      <td>\\nApply the Riemann sum definition of an integ...</td>\n",
       "      <td>How to Calculate Line Integrals</td>\n",
       "      <td>We want our function f{\\displaystyle f} to be...</td>\n",
       "    </tr>\n",
       "    <tr>\n",
       "      <th>141484</th>\n",
       "      <td>\\nNavigate to Twitter and compose a tweet as y...</td>\n",
       "      <td>How to Tweet Someone2</td>\n",
       "      <td>, For example, if mentioning wikiHow in your t...</td>\n",
       "    </tr>\n",
       "    <tr>\n",
       "      <th>110654</th>\n",
       "      <td>\\nOpen the Maps app.,\\nTap on the search box.,...</td>\n",
       "      <td>How to Add Stops to a Route on Apple Maps</td>\n",
       "      <td>The icon looks like a map and is located on t...</td>\n",
       "    </tr>\n",
       "    <tr>\n",
       "      <th>131197</th>\n",
       "      <td>\\nPrep your veggies and herb.,\\nSaute your oni...</td>\n",
       "      <td>How to Make Pizza Pockets3</td>\n",
       "      <td>Dice your onion. Mince your garlic. Slice or ...</td>\n",
       "    </tr>\n",
       "    <tr>\n",
       "      <th>2805</th>\n",
       "      <td>\\nHave your yoga mat, a medicine ball and a se...</td>\n",
       "      <td>How to Do Medicine Ball Back Exercises3</td>\n",
       "      <td>You will need a mat or another comfortable ar...</td>\n",
       "    </tr>\n",
       "    <tr>\n",
       "      <th>15915</th>\n",
       "      <td>\\nNotice pain in one of your testicles.,\\nLook...</td>\n",
       "      <td>How to Know if You Have Epididymitis</td>\n",
       "      <td>This is the most common sign of epididymitis....</td>\n",
       "    </tr>\n",
       "    <tr>\n",
       "      <th>208172</th>\n",
       "      <td>\\nWarm up your muscles.,\\nFind a smooth, flat ...</td>\n",
       "      <td>How to Headspin</td>\n",
       "      <td>To do a headspin, you will use your legs, arm...</td>\n",
       "    </tr>\n",
       "    <tr>\n",
       "      <th>201563</th>\n",
       "      <td>\\nFind digital pictures of everyone in your fa...</td>\n",
       "      <td>How to Make Family Photo Magnets1</td>\n",
       "      <td>You can take new pictures and load them from ...</td>\n",
       "    </tr>\n",
       "  </tbody>\n",
       "</table>\n",
       "</div>"
      ],
      "text/plain": [
       "                                                 headline  \\\n",
       "87404   \\nPreheat the oven to 400ºF.,\\nAdd the ingredi...   \n",
       "101553  \\nOpen a new blank Office Word 2007 document i...   \n",
       "83543   \\nApply the Riemann sum definition of an integ...   \n",
       "141484  \\nNavigate to Twitter and compose a tweet as y...   \n",
       "110654  \\nOpen the Maps app.,\\nTap on the search box.,...   \n",
       "131197  \\nPrep your veggies and herb.,\\nSaute your oni...   \n",
       "2805    \\nHave your yoga mat, a medicine ball and a se...   \n",
       "15915   \\nNotice pain in one of your testicles.,\\nLook...   \n",
       "208172  \\nWarm up your muscles.,\\nFind a smooth, flat ...   \n",
       "201563  \\nFind digital pictures of everyone in your fa...   \n",
       "\n",
       "                                                    title  \\\n",
       "87404   How to Make Healthy Vegan Chocolate Pumpkin Nu...   \n",
       "101553   How to Create a Brochure in Microsoft Word 20073   \n",
       "83543                     How to Calculate Line Integrals   \n",
       "141484                              How to Tweet Someone2   \n",
       "110654          How to Add Stops to a Route on Apple Maps   \n",
       "131197                         How to Make Pizza Pockets3   \n",
       "2805              How to Do Medicine Ball Back Exercises3   \n",
       "15915                How to Know if You Have Epididymitis   \n",
       "208172                                    How to Headspin   \n",
       "201563                  How to Make Family Photo Magnets1   \n",
       "\n",
       "                                                     text  \n",
       "87404    Prepare the cake pan. The size of the pan is ...  \n",
       "101553  , The ruler at the top of the window shows the...  \n",
       "83543    We want our function f{\\displaystyle f} to be...  \n",
       "141484  , For example, if mentioning wikiHow in your t...  \n",
       "110654   The icon looks like a map and is located on t...  \n",
       "131197   Dice your onion. Mince your garlic. Slice or ...  \n",
       "2805     You will need a mat or another comfortable ar...  \n",
       "15915    This is the most common sign of epididymitis....  \n",
       "208172   To do a headspin, you will use your legs, arm...  \n",
       "201563   You can take new pictures and load them from ...  "
      ]
     },
     "execution_count": 19,
     "metadata": {},
     "output_type": "execute_result"
    }
   ],
   "source": [
    "articles.sample(n=10, random_state=2020)"
   ]
  },
  {
   "cell_type": "code",
   "execution_count": 20,
   "metadata": {},
   "outputs": [
    {
     "data": {
      "text/plain": [
       "215365"
      ]
     },
     "execution_count": 20,
     "metadata": {},
     "output_type": "execute_result"
    }
   ],
   "source": [
    "len(articles['title'])"
   ]
  },
  {
   "cell_type": "code",
   "execution_count": 21,
   "metadata": {},
   "outputs": [
    {
     "data": {
      "text/plain": [
       "215365"
      ]
     },
     "execution_count": 21,
     "metadata": {},
     "output_type": "execute_result"
    }
   ],
   "source": [
    "len(articles['title'].unique())"
   ]
  },
  {
   "cell_type": "code",
   "execution_count": 27,
   "metadata": {},
   "outputs": [],
   "source": [
    "articles['normalized_title'] = articles['title'].str.replace(' ', '')"
   ]
  },
  {
   "cell_type": "code",
   "execution_count": 23,
   "metadata": {},
   "outputs": [
    {
     "data": {
      "text/html": [
       "<div>\n",
       "<style scoped>\n",
       "    .dataframe tbody tr th:only-of-type {\n",
       "        vertical-align: middle;\n",
       "    }\n",
       "\n",
       "    .dataframe tbody tr th {\n",
       "        vertical-align: top;\n",
       "    }\n",
       "\n",
       "    .dataframe thead th {\n",
       "        text-align: right;\n",
       "    }\n",
       "</style>\n",
       "<table border=\"1\" class=\"dataframe\">\n",
       "  <thead>\n",
       "    <tr style=\"text-align: right;\">\n",
       "      <th></th>\n",
       "      <th>headline</th>\n",
       "      <th>title</th>\n",
       "      <th>text</th>\n",
       "      <th>normalized_title</th>\n",
       "    </tr>\n",
       "  </thead>\n",
       "  <tbody>\n",
       "    <tr>\n",
       "      <th>87404</th>\n",
       "      <td>\\nPreheat the oven to 400ºF.,\\nAdd the ingredi...</td>\n",
       "      <td>How to Make Healthy Vegan Chocolate Pumpkin Nu...</td>\n",
       "      <td>Prepare the cake pan. The size of the pan is ...</td>\n",
       "      <td>HowtoMakeHealthyVeganChocolatePumpkinNutCake</td>\n",
       "    </tr>\n",
       "    <tr>\n",
       "      <th>101553</th>\n",
       "      <td>\\nOpen a new blank Office Word 2007 document i...</td>\n",
       "      <td>How to Create a Brochure in Microsoft Word 20073</td>\n",
       "      <td>, The ruler at the top of the window shows the...</td>\n",
       "      <td>HowtoCreateaBrochureinMicrosoftWord20073</td>\n",
       "    </tr>\n",
       "    <tr>\n",
       "      <th>83543</th>\n",
       "      <td>\\nApply the Riemann sum definition of an integ...</td>\n",
       "      <td>How to Calculate Line Integrals</td>\n",
       "      <td>We want our function f{\\displaystyle f} to be...</td>\n",
       "      <td>HowtoCalculateLineIntegrals</td>\n",
       "    </tr>\n",
       "    <tr>\n",
       "      <th>141484</th>\n",
       "      <td>\\nNavigate to Twitter and compose a tweet as y...</td>\n",
       "      <td>How to Tweet Someone2</td>\n",
       "      <td>, For example, if mentioning wikiHow in your t...</td>\n",
       "      <td>HowtoTweetSomeone2</td>\n",
       "    </tr>\n",
       "    <tr>\n",
       "      <th>110654</th>\n",
       "      <td>\\nOpen the Maps app.,\\nTap on the search box.,...</td>\n",
       "      <td>How to Add Stops to a Route on Apple Maps</td>\n",
       "      <td>The icon looks like a map and is located on t...</td>\n",
       "      <td>HowtoAddStopstoaRouteonAppleMaps</td>\n",
       "    </tr>\n",
       "    <tr>\n",
       "      <th>131197</th>\n",
       "      <td>\\nPrep your veggies and herb.,\\nSaute your oni...</td>\n",
       "      <td>How to Make Pizza Pockets3</td>\n",
       "      <td>Dice your onion. Mince your garlic. Slice or ...</td>\n",
       "      <td>HowtoMakePizzaPockets3</td>\n",
       "    </tr>\n",
       "    <tr>\n",
       "      <th>2805</th>\n",
       "      <td>\\nHave your yoga mat, a medicine ball and a se...</td>\n",
       "      <td>How to Do Medicine Ball Back Exercises3</td>\n",
       "      <td>You will need a mat or another comfortable ar...</td>\n",
       "      <td>HowtoDoMedicineBallBackExercises3</td>\n",
       "    </tr>\n",
       "    <tr>\n",
       "      <th>15915</th>\n",
       "      <td>\\nNotice pain in one of your testicles.,\\nLook...</td>\n",
       "      <td>How to Know if You Have Epididymitis</td>\n",
       "      <td>This is the most common sign of epididymitis....</td>\n",
       "      <td>HowtoKnowifYouHaveEpididymitis</td>\n",
       "    </tr>\n",
       "    <tr>\n",
       "      <th>208172</th>\n",
       "      <td>\\nWarm up your muscles.,\\nFind a smooth, flat ...</td>\n",
       "      <td>How to Headspin</td>\n",
       "      <td>To do a headspin, you will use your legs, arm...</td>\n",
       "      <td>HowtoHeadspin</td>\n",
       "    </tr>\n",
       "    <tr>\n",
       "      <th>201563</th>\n",
       "      <td>\\nFind digital pictures of everyone in your fa...</td>\n",
       "      <td>How to Make Family Photo Magnets1</td>\n",
       "      <td>You can take new pictures and load them from ...</td>\n",
       "      <td>HowtoMakeFamilyPhotoMagnets1</td>\n",
       "    </tr>\n",
       "  </tbody>\n",
       "</table>\n",
       "</div>"
      ],
      "text/plain": [
       "                                                 headline  \\\n",
       "87404   \\nPreheat the oven to 400ºF.,\\nAdd the ingredi...   \n",
       "101553  \\nOpen a new blank Office Word 2007 document i...   \n",
       "83543   \\nApply the Riemann sum definition of an integ...   \n",
       "141484  \\nNavigate to Twitter and compose a tweet as y...   \n",
       "110654  \\nOpen the Maps app.,\\nTap on the search box.,...   \n",
       "131197  \\nPrep your veggies and herb.,\\nSaute your oni...   \n",
       "2805    \\nHave your yoga mat, a medicine ball and a se...   \n",
       "15915   \\nNotice pain in one of your testicles.,\\nLook...   \n",
       "208172  \\nWarm up your muscles.,\\nFind a smooth, flat ...   \n",
       "201563  \\nFind digital pictures of everyone in your fa...   \n",
       "\n",
       "                                                    title  \\\n",
       "87404   How to Make Healthy Vegan Chocolate Pumpkin Nu...   \n",
       "101553   How to Create a Brochure in Microsoft Word 20073   \n",
       "83543                     How to Calculate Line Integrals   \n",
       "141484                              How to Tweet Someone2   \n",
       "110654          How to Add Stops to a Route on Apple Maps   \n",
       "131197                         How to Make Pizza Pockets3   \n",
       "2805              How to Do Medicine Ball Back Exercises3   \n",
       "15915                How to Know if You Have Epididymitis   \n",
       "208172                                    How to Headspin   \n",
       "201563                  How to Make Family Photo Magnets1   \n",
       "\n",
       "                                                     text  \\\n",
       "87404    Prepare the cake pan. The size of the pan is ...   \n",
       "101553  , The ruler at the top of the window shows the...   \n",
       "83543    We want our function f{\\displaystyle f} to be...   \n",
       "141484  , For example, if mentioning wikiHow in your t...   \n",
       "110654   The icon looks like a map and is located on t...   \n",
       "131197   Dice your onion. Mince your garlic. Slice or ...   \n",
       "2805     You will need a mat or another comfortable ar...   \n",
       "15915    This is the most common sign of epididymitis....   \n",
       "208172   To do a headspin, you will use your legs, arm...   \n",
       "201563   You can take new pictures and load them from ...   \n",
       "\n",
       "                                    normalized_title  \n",
       "87404   HowtoMakeHealthyVeganChocolatePumpkinNutCake  \n",
       "101553      HowtoCreateaBrochureinMicrosoftWord20073  \n",
       "83543                    HowtoCalculateLineIntegrals  \n",
       "141484                            HowtoTweetSomeone2  \n",
       "110654              HowtoAddStopstoaRouteonAppleMaps  \n",
       "131197                        HowtoMakePizzaPockets3  \n",
       "2805               HowtoDoMedicineBallBackExercises3  \n",
       "15915                 HowtoKnowifYouHaveEpididymitis  \n",
       "208172                                 HowtoHeadspin  \n",
       "201563                  HowtoMakeFamilyPhotoMagnets1  "
      ]
     },
     "execution_count": 23,
     "metadata": {},
     "output_type": "execute_result"
    }
   ],
   "source": [
    "articles.sample(n=10, random_state=2020)"
   ]
  },
  {
   "cell_type": "code",
   "execution_count": 35,
   "metadata": {},
   "outputs": [
    {
     "data": {
      "text/html": [
       "<div>\n",
       "<style scoped>\n",
       "    .dataframe tbody tr th:only-of-type {\n",
       "        vertical-align: middle;\n",
       "    }\n",
       "\n",
       "    .dataframe tbody tr th {\n",
       "        vertical-align: top;\n",
       "    }\n",
       "\n",
       "    .dataframe thead th {\n",
       "        text-align: right;\n",
       "    }\n",
       "</style>\n",
       "<table border=\"1\" class=\"dataframe\">\n",
       "  <thead>\n",
       "    <tr style=\"text-align: right;\">\n",
       "      <th></th>\n",
       "      <th>headline</th>\n",
       "      <th>title</th>\n",
       "      <th>text</th>\n",
       "      <th>normalized_title</th>\n",
       "    </tr>\n",
       "  </thead>\n",
       "  <tbody>\n",
       "    <tr>\n",
       "      <th>133</th>\n",
       "      <td>NaN</td>\n",
       "      <td>How to Write a Love Letter to a Girl You Do No...</td>\n",
       "      <td>NaN</td>\n",
       "      <td>HowtoWriteaLoveLettertoaGirlYouDoNotKnow1</td>\n",
       "    </tr>\n",
       "    <tr>\n",
       "      <th>310</th>\n",
       "      <td>NaN</td>\n",
       "      <td>How to Ask Your Crush for Their Cell Phone Num...</td>\n",
       "      <td>NaN</td>\n",
       "      <td>HowtoAskYourCrushforTheirCellPhoneNumber1</td>\n",
       "    </tr>\n",
       "    <tr>\n",
       "      <th>323</th>\n",
       "      <td>NaN</td>\n",
       "      <td>How to Talk to a Girl You Like for the First T...</td>\n",
       "      <td>NaN</td>\n",
       "      <td>HowtoTalktoaGirlYouLikefortheFirstTime2</td>\n",
       "    </tr>\n",
       "    <tr>\n",
       "      <th>324</th>\n",
       "      <td>NaN</td>\n",
       "      <td>How to Talk to a Girl You Like for the First T...</td>\n",
       "      <td>NaN</td>\n",
       "      <td>HowtoTalktoaGirlYouLikefortheFirstTime3</td>\n",
       "    </tr>\n",
       "    <tr>\n",
       "      <th>1483</th>\n",
       "      <td>NaN</td>\n",
       "      <td>How to Be a Fashionista at a Western Performan...</td>\n",
       "      <td>NaN</td>\n",
       "      <td>HowtoBeaFashionistaataWesternPerformanceShow5</td>\n",
       "    </tr>\n",
       "    <tr>\n",
       "      <th>...</th>\n",
       "      <td>...</td>\n",
       "      <td>...</td>\n",
       "      <td>...</td>\n",
       "      <td>...</td>\n",
       "    </tr>\n",
       "    <tr>\n",
       "      <th>212978</th>\n",
       "      <td>NaN</td>\n",
       "      <td>How to Make a Spider Man Costume1</td>\n",
       "      <td>NaN</td>\n",
       "      <td>HowtoMakeaSpiderManCostume1</td>\n",
       "    </tr>\n",
       "    <tr>\n",
       "      <th>213861</th>\n",
       "      <td>NaN</td>\n",
       "      <td>How to Accompany a Singer on Piano4</td>\n",
       "      <td>NaN</td>\n",
       "      <td>HowtoAccompanyaSingeronPiano4</td>\n",
       "    </tr>\n",
       "    <tr>\n",
       "      <th>214179</th>\n",
       "      <td>NaN</td>\n",
       "      <td>How to Speak Klingon3</td>\n",
       "      <td>NaN</td>\n",
       "      <td>HowtoSpeakKlingon3</td>\n",
       "    </tr>\n",
       "    <tr>\n",
       "      <th>214354</th>\n",
       "      <td>NaN</td>\n",
       "      <td>How to Measure Decibels1</td>\n",
       "      <td>NaN</td>\n",
       "      <td>HowtoMeasureDecibels1</td>\n",
       "    </tr>\n",
       "    <tr>\n",
       "      <th>214507</th>\n",
       "      <td>NaN</td>\n",
       "      <td>How to Learn Aerobatics2</td>\n",
       "      <td>NaN</td>\n",
       "      <td>HowtoLearnAerobatics2</td>\n",
       "    </tr>\n",
       "  </tbody>\n",
       "</table>\n",
       "<p>818 rows × 4 columns</p>\n",
       "</div>"
      ],
      "text/plain": [
       "       headline                                              title text  \\\n",
       "133         NaN  How to Write a Love Letter to a Girl You Do No...  NaN   \n",
       "310         NaN  How to Ask Your Crush for Their Cell Phone Num...  NaN   \n",
       "323         NaN  How to Talk to a Girl You Like for the First T...  NaN   \n",
       "324         NaN  How to Talk to a Girl You Like for the First T...  NaN   \n",
       "1483        NaN  How to Be a Fashionista at a Western Performan...  NaN   \n",
       "...         ...                                                ...  ...   \n",
       "212978      NaN                  How to Make a Spider Man Costume1  NaN   \n",
       "213861      NaN                How to Accompany a Singer on Piano4  NaN   \n",
       "214179      NaN                              How to Speak Klingon3  NaN   \n",
       "214354      NaN                           How to Measure Decibels1  NaN   \n",
       "214507      NaN                           How to Learn Aerobatics2  NaN   \n",
       "\n",
       "                                     normalized_title  \n",
       "133         HowtoWriteaLoveLettertoaGirlYouDoNotKnow1  \n",
       "310         HowtoAskYourCrushforTheirCellPhoneNumber1  \n",
       "323           HowtoTalktoaGirlYouLikefortheFirstTime2  \n",
       "324           HowtoTalktoaGirlYouLikefortheFirstTime3  \n",
       "1483    HowtoBeaFashionistaataWesternPerformanceShow5  \n",
       "...                                               ...  \n",
       "212978                    HowtoMakeaSpiderManCostume1  \n",
       "213861                  HowtoAccompanyaSingeronPiano4  \n",
       "214179                             HowtoSpeakKlingon3  \n",
       "214354                          HowtoMeasureDecibels1  \n",
       "214507                          HowtoLearnAerobatics2  \n",
       "\n",
       "[818 rows x 4 columns]"
      ]
     },
     "execution_count": 35,
     "metadata": {},
     "output_type": "execute_result"
    }
   ],
   "source": [
    "articles[articles.headline.isna()]"
   ]
  },
  {
   "cell_type": "code",
   "execution_count": 28,
   "metadata": {},
   "outputs": [],
   "source": [
    "articles = articles[~articles.headline.isna()]\n",
    "articles = articles[~articles.text.isna()]"
   ]
  },
  {
   "cell_type": "code",
   "execution_count": 29,
   "metadata": {},
   "outputs": [
    {
     "data": {
      "text/plain": [
       "157304"
      ]
     },
     "execution_count": 29,
     "metadata": {},
     "output_type": "execute_result"
    }
   ],
   "source": [
    "len(articles[articles['normalized_title'].isin(train)]['normalized_title'].unique())"
   ]
  },
  {
   "cell_type": "code",
   "execution_count": 27,
   "metadata": {},
   "outputs": [
    {
     "data": {
      "text/plain": [
       "168128"
      ]
     },
     "execution_count": 27,
     "metadata": {},
     "output_type": "execute_result"
    }
   ],
   "source": [
    "len(train)"
   ]
  },
  {
   "cell_type": "code",
   "execution_count": 28,
   "metadata": {},
   "outputs": [
    {
     "data": {
      "text/html": [
       "<div>\n",
       "<style scoped>\n",
       "    .dataframe tbody tr th:only-of-type {\n",
       "        vertical-align: middle;\n",
       "    }\n",
       "\n",
       "    .dataframe tbody tr th {\n",
       "        vertical-align: top;\n",
       "    }\n",
       "\n",
       "    .dataframe thead th {\n",
       "        text-align: right;\n",
       "    }\n",
       "</style>\n",
       "<table border=\"1\" class=\"dataframe\">\n",
       "  <thead>\n",
       "    <tr style=\"text-align: right;\">\n",
       "      <th></th>\n",
       "      <th>headline</th>\n",
       "      <th>title</th>\n",
       "      <th>text</th>\n",
       "      <th>normalized_title</th>\n",
       "    </tr>\n",
       "  </thead>\n",
       "  <tbody>\n",
       "    <tr>\n",
       "      <th>177726</th>\n",
       "      <td>\\nCut the chicken wire/hexagonal wire mesh usi...</td>\n",
       "      <td>How to Build a Ferrocement Tank1</td>\n",
       "      <td>The tank size will dictate the necessary size...</td>\n",
       "      <td>HowtoBuildaFerrocementTank1</td>\n",
       "    </tr>\n",
       "  </tbody>\n",
       "</table>\n",
       "</div>"
      ],
      "text/plain": [
       "                                                 headline  \\\n",
       "177726  \\nCut the chicken wire/hexagonal wire mesh usi...   \n",
       "\n",
       "                                   title  \\\n",
       "177726  How to Build a Ferrocement Tank1   \n",
       "\n",
       "                                                     text  \\\n",
       "177726   The tank size will dictate the necessary size...   \n",
       "\n",
       "                   normalized_title  \n",
       "177726  HowtoBuildaFerrocementTank1  "
      ]
     },
     "execution_count": 28,
     "metadata": {},
     "output_type": "execute_result"
    }
   ],
   "source": [
    "articles[articles['normalized_title'] == 'HowtoBuildaFerrocementTank1']"
   ]
  },
  {
   "cell_type": "code",
   "execution_count": 29,
   "metadata": {},
   "outputs": [
    {
     "data": {
      "text/plain": [
       "[]"
      ]
     },
     "execution_count": 29,
     "metadata": {},
     "output_type": "execute_result"
    }
   ],
   "source": [
    "[ t for t in train if 'errocement' in t ]"
   ]
  },
  {
   "cell_type": "code",
   "execution_count": 30,
   "metadata": {},
   "outputs": [
    {
     "data": {
      "text/plain": [
       "[]"
      ]
     },
     "execution_count": 30,
     "metadata": {},
     "output_type": "execute_result"
    }
   ],
   "source": [
    "[ t for t in test if 'errocement' in t ]"
   ]
  },
  {
   "cell_type": "code",
   "execution_count": 31,
   "metadata": {},
   "outputs": [
    {
     "data": {
      "text/plain": [
       "[]"
      ]
     },
     "execution_count": 31,
     "metadata": {},
     "output_type": "execute_result"
    }
   ],
   "source": [
    "[ t for t in val if 'errocement' in t ]"
   ]
  },
  {
   "cell_type": "code",
   "execution_count": 31,
   "metadata": {},
   "outputs": [],
   "source": [
    "all_titles = set(articles['normalized_title'].unique())"
   ]
  },
  {
   "cell_type": "code",
   "execution_count": 33,
   "metadata": {},
   "outputs": [
    {
     "data": {
      "text/plain": [
       "157304"
      ]
     },
     "execution_count": 33,
     "metadata": {},
     "output_type": "execute_result"
    }
   ],
   "source": [
    "len(set(train) & all_titles)"
   ]
  },
  {
   "cell_type": "code",
   "execution_count": 34,
   "metadata": {},
   "outputs": [
    {
     "data": {
      "text/plain": [
       "5580"
      ]
     },
     "execution_count": 34,
     "metadata": {},
     "output_type": "execute_result"
    }
   ],
   "source": [
    "len(set(test) & all_titles)"
   ]
  },
  {
   "cell_type": "code",
   "execution_count": 35,
   "metadata": {},
   "outputs": [
    {
     "data": {
      "text/plain": [
       "5600"
      ]
     },
     "execution_count": 35,
     "metadata": {},
     "output_type": "execute_result"
    }
   ],
   "source": [
    "len(set(val) & all_titles)"
   ]
  },
  {
   "cell_type": "code",
   "execution_count": 32,
   "metadata": {},
   "outputs": [],
   "source": [
    "train = list(set(train) & all_titles)"
   ]
  },
  {
   "cell_type": "code",
   "execution_count": 33,
   "metadata": {},
   "outputs": [],
   "source": [
    "test = list(set(test) & all_titles)"
   ]
  },
  {
   "cell_type": "code",
   "execution_count": 34,
   "metadata": {},
   "outputs": [],
   "source": [
    "val = list(set(val) & all_titles)"
   ]
  },
  {
   "cell_type": "markdown",
   "metadata": {},
   "source": [
    "## Exploring the data more"
   ]
  },
  {
   "cell_type": "code",
   "execution_count": 1,
   "metadata": {},
   "outputs": [],
   "source": [
    "import spacy"
   ]
  },
  {
   "cell_type": "code",
   "execution_count": 2,
   "metadata": {},
   "outputs": [],
   "source": [
    "nlp = spacy.load(\n",
    "    \"en_core_web_lg\",\n",
    "    disable=[\"tagger\", \"parser\", \"ner\", \"textcat\"]\n",
    ")"
   ]
  },
  {
   "cell_type": "code",
   "execution_count": 35,
   "metadata": {},
   "outputs": [
    {
     "data": {
      "text/plain": [
       "'\\nKeep related supplies in the same area.,\\nMake an effort to clean a dedicated workspace after every session.,\\nPlace loose supplies in large, clearly visible containers.,\\nUse clotheslines and clips to hang sketches, photos, and reference material.,\\nUse every inch of the room for storage, especially vertical space.,\\nUse chalkboard paint to make space for drafting ideas right on the walls.,\\nPurchase a label maker to make your organization strategy semi-permanent.,\\nMake a habit of throwing out old, excess, or useless stuff each month.'"
      ]
     },
     "execution_count": 35,
     "metadata": {},
     "output_type": "execute_result"
    }
   ],
   "source": [
    "articles.iloc[0]['headline']"
   ]
  },
  {
   "cell_type": "code",
   "execution_count": 42,
   "metadata": {},
   "outputs": [
    {
     "data": {
      "text/plain": [
       "\n",
       "Keep related supplies in the same area.,\n",
       "Make an effort to clean a dedicated workspace after every session.,\n",
       "Place loose supplies in large, clearly visible containers.,\n",
       "Use clotheslines and clips to hang sketches, photos, and reference material.,\n",
       "Use every inch of the room for storage, especially vertical space.,\n",
       "Use chalkboard paint to make space for drafting ideas right on the walls.,\n",
       "Purchase a label maker to make your organization strategy semi-permanent.,\n",
       "Make a habit of throwing out old, excess, or useless stuff each month."
      ]
     },
     "execution_count": 42,
     "metadata": {},
     "output_type": "execute_result"
    }
   ],
   "source": [
    "nlp(articles.iloc[0]['headline'])"
   ]
  },
  {
   "cell_type": "code",
   "execution_count": 45,
   "metadata": {},
   "outputs": [
    {
     "data": {
      "text/plain": [
       "array([-2.14049383e-03,  1.20533675e-01, -1.50411963e-01, -2.95907892e-02,\n",
       "        5.36861718e-02,  1.87308304e-02, -6.58619851e-02, -1.11265108e-01,\n",
       "       -5.44577129e-02,  1.81314087e+00, -1.56057566e-01,  7.46618360e-02,\n",
       "        5.50983138e-02, -5.07150292e-02, -1.08529627e-01, -7.27834404e-02,\n",
       "       -2.78506801e-02,  1.32611310e+00, -1.87722608e-01,  1.68871153e-02,\n",
       "       -1.80466007e-02,  7.95699731e-02, -2.61089355e-02, -4.26516421e-02,\n",
       "        5.39166480e-02,  4.90100309e-03, -1.93231814e-02, -3.00815478e-02,\n",
       "        6.83127269e-02, -1.12207130e-01,  2.01380365e-02, -8.36755894e-03,\n",
       "       -8.37247446e-02,  1.17265426e-01,  8.59610960e-02, -1.14325628e-01,\n",
       "        1.02570681e-02,  2.87171900e-02, -9.53881163e-03, -3.63615490e-02,\n",
       "       -8.56569931e-02,  1.22249767e-01,  3.23277805e-03, -1.01762362e-01,\n",
       "       -5.48178852e-02,  2.22754292e-02, -1.04785562e-01,  1.43406785e-03,\n",
       "        3.80684845e-02,  1.15816528e-02,  4.88370322e-02,  2.40807012e-02,\n",
       "        5.68812415e-02,  5.43523282e-02, -2.79298816e-02, -2.66175475e-02,\n",
       "        3.32368501e-02, -7.77427405e-02,  4.34629321e-02, -2.44106930e-02,\n",
       "       -7.79501442e-03, -3.04372353e-03,  2.35814005e-02,  1.95763320e-01,\n",
       "        9.90002826e-02, -9.99279767e-02, -4.75294292e-02,  8.76834616e-02,\n",
       "        2.57468820e-02,  1.37732074e-01,  4.64438051e-02,  1.01237400e-02,\n",
       "        1.52161717e-01, -6.11006916e-02,  8.73907730e-02,  6.35224804e-02,\n",
       "        5.48243113e-02, -1.46607816e-01, -2.19641179e-02,  1.42627910e-01,\n",
       "       -8.75905007e-02,  5.52424639e-02, -2.91194413e-02, -9.87236574e-03,\n",
       "       -6.30938262e-02, -1.43662274e-01,  5.24741895e-02,  2.17571676e-01,\n",
       "        3.10707629e-01,  9.89542454e-02, -8.15347116e-03, -1.10768350e-02,\n",
       "        3.45367491e-02,  2.19477769e-02,  5.67514785e-02, -5.44263124e-02,\n",
       "       -5.58888875e-02,  2.45305654e-02, -3.60923931e-02, -7.93456882e-02,\n",
       "       -1.10774569e-03,  2.46791840e-02, -1.47404790e-01, -5.16316742e-02,\n",
       "        6.50009140e-02, -6.35276556e-01,  1.01044334e-01,  7.08960146e-02,\n",
       "        1.19111925e-01,  3.12535912e-02,  3.71310934e-02, -1.00819044e-01,\n",
       "        1.24896608e-01, -1.35984823e-01, -2.46750060e-02, -3.60222645e-02,\n",
       "        1.03416815e-02, -2.56767310e-02, -2.06067543e-02, -5.29350759e-03,\n",
       "        6.03655577e-02,  3.64390295e-03,  2.41017938e-02,  9.52836871e-02,\n",
       "       -4.48496416e-02,  6.57553822e-02, -1.07691288e-02, -6.35805279e-02,\n",
       "        9.69652086e-02,  3.03820129e-02, -2.72823423e-02, -2.51068547e-02,\n",
       "       -4.39491123e-02,  1.29372505e-02, -1.40688363e-02,  1.15659513e-01,\n",
       "        7.71275675e-03, -1.01043116e-02,  7.72424415e-02,  1.03923054e-02,\n",
       "       -9.47322190e-01,  1.21741824e-01,  1.25028357e-01,  6.08835835e-03,\n",
       "       -3.90033685e-02,  2.33609639e-02, -2.24331226e-02, -7.80027360e-02,\n",
       "        6.90266714e-02, -5.41654881e-04,  1.75964236e-02,  4.72258516e-02,\n",
       "        1.32498637e-01, -1.43863703e-03, -1.24285854e-01,  2.79660989e-02,\n",
       "        5.36240358e-03, -3.05568241e-02, -3.59687805e-02, -1.29228681e-02,\n",
       "       -5.07918186e-02,  4.76844870e-02, -5.17842323e-02, -1.65143590e-02,\n",
       "       -5.42803854e-02, -1.14537589e-01,  5.53551018e-02,  4.68767360e-02,\n",
       "        1.42573729e-01,  4.41466272e-02,  1.84770841e-02, -1.70255620e-02,\n",
       "       -3.31199239e-03,  2.38378309e-02, -5.17730266e-02,  6.39502779e-02,\n",
       "       -8.80014896e-02,  1.35092586e-02,  1.92401353e-02, -3.82183790e-02,\n",
       "        1.78504214e-02, -7.43113458e-02, -4.21151109e-02, -1.06987707e-01,\n",
       "        1.45504372e-02, -5.31162769e-02, -1.93153005e-02, -5.51361730e-03,\n",
       "        6.88253809e-03, -4.32292037e-02, -4.98124063e-02,  7.72942528e-02,\n",
       "       -9.13585350e-03,  3.51435952e-02,  1.16760815e-02,  1.14993550e-01,\n",
       "       -2.71977019e-02, -5.65197431e-02, -5.07783592e-02,  1.57003254e-01,\n",
       "        4.01337184e-02, -5.05067594e-02, -6.97619980e-03, -3.40573229e-02,\n",
       "        2.36664250e-01,  1.92977339e-02,  3.20721976e-02, -2.11801138e-02,\n",
       "       -1.94932066e-03, -1.30944373e-02, -3.25564332e-02, -5.98751679e-02,\n",
       "       -5.84481889e-03, -1.85558289e-01,  8.88677910e-02,  1.55842304e-01,\n",
       "       -2.40307022e-02,  5.27648143e-02, -1.76652998e-01,  1.33444546e-02,\n",
       "        4.42167521e-02, -1.55666443e-02, -4.15725261e-02,  7.31890500e-02,\n",
       "        4.63883057e-02, -2.23826561e-02, -1.53871987e-03,  8.34316984e-02,\n",
       "       -6.20605238e-02,  7.95355253e-03, -1.85790751e-02, -1.96074285e-02,\n",
       "        5.32733127e-02,  7.54183084e-02, -5.83288400e-03, -3.21499221e-02,\n",
       "        4.86895302e-03, -8.77148006e-03,  3.65373259e-03,  4.35994286e-03,\n",
       "        5.98366894e-02,  7.60368630e-02, -4.18963435e-04,  4.76450920e-02,\n",
       "        1.33637726e-01, -4.32887450e-02, -1.21582083e-01, -1.34124041e-01,\n",
       "       -1.58152565e-01,  1.10267550e-01,  2.87410337e-02,  4.58871759e-03,\n",
       "       -1.09399386e-01, -1.34998169e-02,  5.42892814e-02,  2.31561497e-01,\n",
       "        7.25678802e-02, -6.77985400e-02, -7.89693743e-02,  3.83277237e-02,\n",
       "        8.28242451e-02,  1.27524495e-01,  2.87448745e-02,  5.72176576e-02,\n",
       "        3.32143605e-02, -3.17846015e-02, -3.97721529e-02, -1.85236186e-02,\n",
       "        2.52315313e-01,  2.09698379e-02,  1.87939163e-02, -4.83534113e-02,\n",
       "        1.39111292e-03, -1.78536758e-01, -1.24353625e-01, -9.46605504e-02,\n",
       "        1.21561801e-02,  1.06044017e-01, -1.49283223e-02,  7.77543932e-02,\n",
       "        2.12029234e-01,  4.71814629e-03,  2.03117840e-02, -8.90200362e-02,\n",
       "       -7.18013644e-02, -9.58429500e-02,  9.58340988e-02, -1.02576815e-01,\n",
       "        1.47607505e-01, -8.36754292e-02, -1.77187711e-01,  2.10746489e-02,\n",
       "        5.12894019e-02, -1.16187641e-02, -1.47907093e-01,  2.03188881e-02,\n",
       "       -2.64855046e-02, -7.96032771e-02, -6.68167844e-02,  1.11925133e-01],\n",
       "      dtype=float32)"
      ]
     },
     "execution_count": 45,
     "metadata": {},
     "output_type": "execute_result"
    }
   ],
   "source": [
    "nlp(articles.iloc[0]['headline']).vector"
   ]
  },
  {
   "cell_type": "markdown",
   "metadata": {},
   "source": [
    "How many megabytes needed to form a matrix with one article per row and one float32 from the document vector in each column:"
   ]
  },
  {
   "cell_type": "code",
   "execution_count": 237,
   "metadata": {},
   "outputs": [],
   "source": [
    "articles_sample = articles.sample(n=10000)"
   ]
  },
  {
   "cell_type": "code",
   "execution_count": 238,
   "metadata": {},
   "outputs": [],
   "source": [
    "articles_vectors = articles_sample['headline'].apply(lambda headline : nlp(headline).vector)"
   ]
  },
  {
   "cell_type": "code",
   "execution_count": 60,
   "metadata": {},
   "outputs": [],
   "source": [
    "import numpy as np"
   ]
  },
  {
   "cell_type": "code",
   "execution_count": 50,
   "metadata": {},
   "outputs": [],
   "source": [
    "from sklearn.cluster import KMeans"
   ]
  },
  {
   "cell_type": "code",
   "execution_count": 239,
   "metadata": {},
   "outputs": [],
   "source": [
    "kmeans = KMeans(n_clusters=10, random_state=0).fit(np.stack(articles_vectors.to_numpy()))"
   ]
  },
  {
   "cell_type": "code",
   "execution_count": 240,
   "metadata": {},
   "outputs": [
    {
     "data": {
      "text/plain": [
       "array([8, 7, 8, ..., 0, 4, 3], dtype=int32)"
      ]
     },
     "execution_count": 240,
     "metadata": {},
     "output_type": "execute_result"
    }
   ],
   "source": [
    "kmeans.labels_"
   ]
  },
  {
   "cell_type": "code",
   "execution_count": 194,
   "metadata": {},
   "outputs": [],
   "source": [
    "from sklearn.feature_extraction.text import TfidfVectorizer"
   ]
  },
  {
   "cell_type": "code",
   "execution_count": 241,
   "metadata": {},
   "outputs": [],
   "source": [
    "vectorizer=TfidfVectorizer(use_idf=True, stop_words=spacy.lang.en.stop_words.STOP_WORDS)"
   ]
  },
  {
   "cell_type": "code",
   "execution_count": 242,
   "metadata": {},
   "outputs": [],
   "source": [
    "cluster_docs = [ '\\n'.join(articles_sample[kmeans.labels_ == ix].headline) for ix in range(0, max(kmeans.labels_) + 1) ]"
   ]
  },
  {
   "cell_type": "code",
   "execution_count": 243,
   "metadata": {},
   "outputs": [
    {
     "data": {
      "text/plain": [
       "10"
      ]
     },
     "execution_count": 243,
     "metadata": {},
     "output_type": "execute_result"
    }
   ],
   "source": [
    "len(cluster_docs)"
   ]
  },
  {
   "cell_type": "code",
   "execution_count": 244,
   "metadata": {},
   "outputs": [
    {
     "name": "stderr",
     "output_type": "stream",
     "text": [
      "/opt/conda/lib/python3.7/site-packages/sklearn/feature_extraction/text.py:385: UserWarning: Your stop_words may be inconsistent with your preprocessing. Tokenizing the stop words generated tokens ['ll', 've'] not in stop_words.\n",
      "  'stop_words.' % sorted(inconsistent))\n"
     ]
    },
    {
     "data": {
      "text/plain": [
       "TfidfVectorizer(analyzer='word', binary=False, decode_error='strict',\n",
       "                dtype=<class 'numpy.float64'>, encoding='utf-8',\n",
       "                input='content', lowercase=True, max_df=1.0, max_features=None,\n",
       "                min_df=1, ngram_range=(1, 1), norm='l2', preprocessor=None,\n",
       "                smooth_idf=True,\n",
       "                stop_words={\"'d\", \"'ll\", \"'m\", \"'re\", \"'s\", \"'ve\", 'a', 'about',\n",
       "                            'above', 'across', 'after', 'afterwards', 'again',\n",
       "                            'against', 'all', 'almost', 'alone', 'along',\n",
       "                            'already', 'also', 'although', 'always', 'am',\n",
       "                            'among', 'amongst', 'amount', 'an', 'and',\n",
       "                            'another', 'any', ...},\n",
       "                strip_accents=None, sublinear_tf=False,\n",
       "                token_pattern='(?u)\\\\b\\\\w\\\\w+\\\\b', tokenizer=None, use_idf=True,\n",
       "                vocabulary=None)"
      ]
     },
     "execution_count": 244,
     "metadata": {},
     "output_type": "execute_result"
    }
   ],
   "source": [
    "vectorizer.fit(articles_sample.headline)"
   ]
  },
  {
   "cell_type": "code",
   "execution_count": 245,
   "metadata": {},
   "outputs": [],
   "source": [
    "X=vectorizer.transform([nlp(doc).text for doc in cluster_docs])"
   ]
  },
  {
   "cell_type": "code",
   "execution_count": 246,
   "metadata": {},
   "outputs": [
    {
     "data": {
      "text/plain": [
       "<10x22575 sparse matrix of type '<class 'numpy.float64'>'\n",
       "\twith 53544 stored elements in Compressed Sparse Row format>"
      ]
     },
     "execution_count": 246,
     "metadata": {},
     "output_type": "execute_result"
    }
   ],
   "source": [
    "X"
   ]
  },
  {
   "cell_type": "code",
   "execution_count": 247,
   "metadata": {},
   "outputs": [],
   "source": [
    "def defining_words(ix, X, vectorizer):\n",
    "    df = pd.DataFrame(X[ix].T.todense(), index=vectorizer.get_feature_names(), columns=[\"tfidf\"])\n",
    "    return ', '.join(list(df[df.tfidf > 0.1].sort_values(['tfidf'], ascending=False).index[:10]))"
   ]
  },
  {
   "cell_type": "code",
   "execution_count": 248,
   "metadata": {},
   "outputs": [
    {
     "name": "stdout",
     "output_type": "stream",
     "text": [
      "0\tclick, tap, select, open, button, file, menu, type, app, download\n",
      "1\thair, wear, apply, use, color, brush, choose, face, wash, shoes\n",
      "2\tdon, people, ask, time, know, person, talk, want, friends, help\n",
      "3\tdoctor, eat, symptoms, diet, dog, foods, avoid, cat, pain, use\n",
      "4\tuse, sure, find, dog, time, look, right, place, start, want\n",
      "5\tcut, draw, place, end, paper, remove, piece, fold, fabric, glue\n",
      "6\tadd, mixture, heat, minutes, bowl, pour, mix, oven, sugar, water\n",
      "7\twater, use, dry, remove, clean, oil, wash, soil, rinse, apply\n",
      "8\tlearn, use, practice, find, don, try, know, time, play, choose\n",
      "9\tinformation, determine, check, business, find, consider, online, use, company, application\n"
     ]
    }
   ],
   "source": [
    "for ix in range(0, max(kmeans.labels_) + 1):\n",
    "    words = defining_words(ix, X, vectorizer)\n",
    "    \n",
    "    print(f\"{ix}\\t{words}\")"
   ]
  },
  {
   "cell_type": "code",
   "execution_count": 94,
   "metadata": {},
   "outputs": [],
   "source": [
    "from plotnine import ggplot, geom_bar, aes"
   ]
  },
  {
   "cell_type": "code",
   "execution_count": 96,
   "metadata": {},
   "outputs": [],
   "source": [
    "df_lengths = pd.DataFrame({\n",
    "    'headline_length': articles.headline.str.len(),\n",
    "    'text_length': articles.text.str.len()\n",
    "})"
   ]
  },
  {
   "cell_type": "code",
   "execution_count": 95,
   "metadata": {},
   "outputs": [
    {
     "data": {
      "image/png": "[encoded data removed]",
      "text/plain": [
       "<Figure size 640x480 with 1 Axes>"
      ]
     },
     "metadata": {},
     "output_type": "display_data"
    },
    {
     "data": {
      "text/plain": [
       "<ggplot: (8753461018345)>"
      ]
     },
     "execution_count": 95,
     "metadata": {},
     "output_type": "execute_result"
    }
   ],
   "source": [
    "ggplot(df_lengths) + geom_bar(aes(x='headline_length'))"
   ]
  },
  {
   "cell_type": "markdown",
   "metadata": {},
   "source": [
    "The plot above shows that we have a few data points of a much greater length than the rest."
   ]
  },
  {
   "cell_type": "code",
   "execution_count": 97,
   "metadata": {},
   "outputs": [
    {
     "data": {
      "image/png": "[encoded data removed]",
      "text/plain": [
       "<Figure size 640x480 with 1 Axes>"
      ]
     },
     "metadata": {},
     "output_type": "display_data"
    },
    {
     "data": {
      "text/plain": [
       "<ggplot: (8753460820253)>"
      ]
     },
     "execution_count": 97,
     "metadata": {},
     "output_type": "execute_result"
    }
   ],
   "source": [
    "ggplot(df_lengths) + geom_bar(aes(x='text_length'))"
   ]
  },
  {
   "cell_type": "code",
   "execution_count": 98,
   "metadata": {},
   "outputs": [
    {
     "data": {
      "text/html": [
       "<div>\n",
       "<style scoped>\n",
       "    .dataframe tbody tr th:only-of-type {\n",
       "        vertical-align: middle;\n",
       "    }\n",
       "\n",
       "    .dataframe tbody tr th {\n",
       "        vertical-align: top;\n",
       "    }\n",
       "\n",
       "    .dataframe thead th {\n",
       "        text-align: right;\n",
       "    }\n",
       "</style>\n",
       "<table border=\"1\" class=\"dataframe\">\n",
       "  <thead>\n",
       "    <tr style=\"text-align: right;\">\n",
       "      <th></th>\n",
       "      <th>headline_length</th>\n",
       "      <th>text_length</th>\n",
       "    </tr>\n",
       "  </thead>\n",
       "  <tbody>\n",
       "    <tr>\n",
       "      <th>count</th>\n",
       "      <td>214294.000000</td>\n",
       "      <td>214294.000000</td>\n",
       "    </tr>\n",
       "    <tr>\n",
       "      <th>mean</th>\n",
       "      <td>348.981077</td>\n",
       "      <td>2484.787904</td>\n",
       "    </tr>\n",
       "    <tr>\n",
       "      <th>std</th>\n",
       "      <td>319.371839</td>\n",
       "      <td>2759.982268</td>\n",
       "    </tr>\n",
       "    <tr>\n",
       "      <th>min</th>\n",
       "      <td>3.000000</td>\n",
       "      <td>1.000000</td>\n",
       "    </tr>\n",
       "    <tr>\n",
       "      <th>25%</th>\n",
       "      <td>153.000000</td>\n",
       "      <td>765.000000</td>\n",
       "    </tr>\n",
       "    <tr>\n",
       "      <th>50%</th>\n",
       "      <td>256.000000</td>\n",
       "      <td>1679.000000</td>\n",
       "    </tr>\n",
       "    <tr>\n",
       "      <th>75%</th>\n",
       "      <td>447.000000</td>\n",
       "      <td>3037.000000</td>\n",
       "    </tr>\n",
       "    <tr>\n",
       "      <th>max</th>\n",
       "      <td>23669.000000</td>\n",
       "      <td>74231.000000</td>\n",
       "    </tr>\n",
       "  </tbody>\n",
       "</table>\n",
       "</div>"
      ],
      "text/plain": [
       "       headline_length    text_length\n",
       "count    214294.000000  214294.000000\n",
       "mean        348.981077    2484.787904\n",
       "std         319.371839    2759.982268\n",
       "min           3.000000       1.000000\n",
       "25%         153.000000     765.000000\n",
       "50%         256.000000    1679.000000\n",
       "75%         447.000000    3037.000000\n",
       "max       23669.000000   74231.000000"
      ]
     },
     "execution_count": 98,
     "metadata": {},
     "output_type": "execute_result"
    }
   ],
   "source": [
    "df_lengths.describe()"
   ]
  },
  {
   "cell_type": "code",
   "execution_count": 99,
   "metadata": {},
   "outputs": [
    {
     "data": {
      "text/html": [
       "<div>\n",
       "<style scoped>\n",
       "    .dataframe tbody tr th:only-of-type {\n",
       "        vertical-align: middle;\n",
       "    }\n",
       "\n",
       "    .dataframe tbody tr th {\n",
       "        vertical-align: top;\n",
       "    }\n",
       "\n",
       "    .dataframe thead th {\n",
       "        text-align: right;\n",
       "    }\n",
       "</style>\n",
       "<table border=\"1\" class=\"dataframe\">\n",
       "  <thead>\n",
       "    <tr style=\"text-align: right;\">\n",
       "      <th></th>\n",
       "      <th>headline_length</th>\n",
       "      <th>text_length</th>\n",
       "    </tr>\n",
       "  </thead>\n",
       "  <tbody>\n",
       "    <tr>\n",
       "      <th>0.75</th>\n",
       "      <td>447.0</td>\n",
       "      <td>3037.00</td>\n",
       "    </tr>\n",
       "    <tr>\n",
       "      <th>0.80</th>\n",
       "      <td>506.0</td>\n",
       "      <td>3565.00</td>\n",
       "    </tr>\n",
       "    <tr>\n",
       "      <th>0.85</th>\n",
       "      <td>582.0</td>\n",
       "      <td>4388.05</td>\n",
       "    </tr>\n",
       "    <tr>\n",
       "      <th>0.90</th>\n",
       "      <td>692.0</td>\n",
       "      <td>5807.00</td>\n",
       "    </tr>\n",
       "    <tr>\n",
       "      <th>0.95</th>\n",
       "      <td>899.0</td>\n",
       "      <td>8299.00</td>\n",
       "    </tr>\n",
       "  </tbody>\n",
       "</table>\n",
       "</div>"
      ],
      "text/plain": [
       "      headline_length  text_length\n",
       "0.75            447.0      3037.00\n",
       "0.80            506.0      3565.00\n",
       "0.85            582.0      4388.05\n",
       "0.90            692.0      5807.00\n",
       "0.95            899.0      8299.00"
      ]
     },
     "execution_count": 99,
     "metadata": {},
     "output_type": "execute_result"
    }
   ],
   "source": [
    "df_lengths.quantile([0.75, 0.8, 0.85, 0.9, 0.95])"
   ]
  },
  {
   "cell_type": "code",
   "execution_count": 100,
   "metadata": {},
   "outputs": [
    {
     "data": {
      "text/plain": [
       "130414"
      ]
     },
     "execution_count": 100,
     "metadata": {},
     "output_type": "execute_result"
    }
   ],
   "source": [
    "len(articles[(df_lengths.headline_length <= 447) & (df_lengths.text_length <= 3037)])"
   ]
  },
  {
   "cell_type": "code",
   "execution_count": 37,
   "metadata": {},
   "outputs": [],
   "source": [
    "MAX_HEADLINE_LENGTH = 447\n",
    "MAX_TEXT_LENGTH = 3037"
   ]
  },
  {
   "cell_type": "code",
   "execution_count": 38,
   "metadata": {},
   "outputs": [],
   "source": [
    "articles = articles[\n",
    "    (articles.text.str.len() <= MAX_TEXT_LENGTH) &\n",
    "    (articles.headline.str.len() <= MAX_HEADLINE_LENGTH)\n",
    "]"
   ]
  },
  {
   "cell_type": "code",
   "execution_count": 44,
   "metadata": {},
   "outputs": [],
   "source": [
    "train = set(train)\n",
    "test = set(test)\n",
    "val = set(val)"
   ]
  },
  {
   "cell_type": "code",
   "execution_count": 45,
   "metadata": {},
   "outputs": [
    {
     "data": {
      "text/plain": [
       "23200       val\n",
       "122382    train\n",
       "136557    train\n",
       "107928      val\n",
       "159034      val\n",
       "115036    train\n",
       "13214     train\n",
       "138541      val\n",
       "48610       val\n",
       "31059     train\n",
       "dtype: object"
      ]
     },
     "execution_count": 45,
     "metadata": {},
     "output_type": "execute_result"
    }
   ],
   "source": [
    "def classify(row):\n",
    "    title = row[\"normalized_title\"]\n",
    "    \n",
    "    if title in train:\n",
    "        return \"train\"\n",
    "    else:\n",
    "        if title in test:\n",
    "            return \"test\"\n",
    "        else:\n",
    "            return \"val\"\n",
    "\n",
    "articles.sample(n=10).apply(classify, axis=1)"
   ]
  },
  {
   "cell_type": "code",
   "execution_count": 46,
   "metadata": {},
   "outputs": [],
   "source": [
    "articles[\"set\"] = articles.apply(classify, axis=1)"
   ]
  },
  {
   "cell_type": "code",
   "execution_count": 48,
   "metadata": {},
   "outputs": [],
   "source": [
    "articles[['headline', 'text', 'normalized_title', 'set']].to_parquet(\n",
    "    'data/articles-processed.parquet.gzip',\n",
    "    compression='gzip'\n",
    ")"
   ]
  },
  {
   "cell_type": "code",
   "execution_count": 9,
   "metadata": {},
   "outputs": [],
   "source": [
    "import torch\n",
    "from transformers import *\n",
    "from torch.utils.data import Dataset"
   ]
  },
  {
   "cell_type": "code",
   "execution_count": 10,
   "metadata": {},
   "outputs": [],
   "source": [
    "class ArticlesDataset(Dataset):\n",
    "    def __init__(self, parquet_file_path, keys, transform=None):\n",
    "        self.data = self.read_data(parquet_file_path, keys)\n",
    "        self.transform = transform\n",
    "        \n",
    "    def __len__(self):\n",
    "        return len(self.data)\n",
    "    \n",
    "    def __getitem__(self, idx):\n",
    "        if torch.is_tensor(idx):\n",
    "            idx = idx.tolist()\n",
    "            \n",
    "        data = self.data.iloc[idx, :]\n",
    "            \n",
    "        if self.transform:\n",
    "            data = self.transform(data)\n",
    "\n",
    "        return data\n",
    "        \n",
    "    def read_data(self, parquet_file_path, keys):\n",
    "        data = pd.read_parquet(parquet_file_path)\n",
    "        \n",
    "        return data"
   ]
  },
  {
   "cell_type": "code",
   "execution_count": 12,
   "metadata": {},
   "outputs": [],
   "source": [
    "class Tokenize(object):\n",
    "    def __init__(self):\n",
    "        pass\n",
    "        \n",
    "    def __call__(self, sample):\n",
    "        return {\n",
    "            'normalized_title': sample['normalized_title'],\n",
    "            'text': sample['text'],\n",
    "            'headline': sample['headline']\n",
    "        }"
   ]
  },
  {
   "cell_type": "code",
   "execution_count": 13,
   "metadata": {},
   "outputs": [],
   "source": [
    "dataset = ArticlesDataset(\n",
    "    \"data/articles.parquet.gzip\",\n",
    "    keys=train,\n",
    "    transform=Tokenize()\n",
    ")"
   ]
  },
  {
   "cell_type": "code",
   "execution_count": 22,
   "metadata": {},
   "outputs": [
    {
     "data": {
      "text/plain": [
       "17479476687133065248"
      ]
     },
     "execution_count": 22,
     "metadata": {},
     "output_type": "execute_result"
    }
   ],
   "source": [
    "nlp.vocab['cheese'].orth"
   ]
  },
  {
   "cell_type": "code",
   "execution_count": 25,
   "metadata": {},
   "outputs": [
    {
     "ename": "ValueError",
     "evalue": "[E030] Sentence boundaries unset. You can add the 'sentencizer' component to the pipeline with: nlp.add_pipe(nlp.create_pipe('sentencizer')) Alternatively, add the dependency parser, or set sentence boundaries by setting doc[i].is_sent_start.",
     "output_type": "error",
     "traceback": [
      "\u001b[0;31m---------------------------------------------------------------------------\u001b[0m",
      "\u001b[0;31mValueError\u001b[0m                                Traceback (most recent call last)",
      "\u001b[0;32m<ipython-input-25-0c4e9912bb22>\u001b[0m in \u001b[0;36m<module>\u001b[0;34m\u001b[0m\n\u001b[0;32m----> 1\u001b[0;31m \u001b[0mlist\u001b[0m\u001b[0;34m(\u001b[0m\u001b[0mnlp\u001b[0m\u001b[0;34m(\u001b[0m\u001b[0mdataset\u001b[0m\u001b[0;34m[\u001b[0m\u001b[0;36m1000\u001b[0m\u001b[0;34m]\u001b[0m\u001b[0;34m[\u001b[0m\u001b[0;34m'text'\u001b[0m\u001b[0;34m]\u001b[0m\u001b[0;34m)\u001b[0m\u001b[0;34m.\u001b[0m\u001b[0msents\u001b[0m\u001b[0;34m)\u001b[0m\u001b[0;34m\u001b[0m\u001b[0;34m\u001b[0m\u001b[0m\n\u001b[0m",
      "\u001b[0;32mdoc.pyx\u001b[0m in \u001b[0;36msents\u001b[0;34m()\u001b[0m\n",
      "\u001b[0;31mValueError\u001b[0m: [E030] Sentence boundaries unset. You can add the 'sentencizer' component to the pipeline with: nlp.add_pipe(nlp.create_pipe('sentencizer')) Alternatively, add the dependency parser, or set sentence boundaries by setting doc[i].is_sent_start."
     ]
    }
   ],
   "source": [
    "list(nlp(dataset[1000]['text']).sents)"
   ]
  },
  {
   "cell_type": "code",
   "execution_count": 61,
   "metadata": {},
   "outputs": [],
   "source": [
    "from torch.utils.data import DataLoader"
   ]
  },
  {
   "cell_type": "code",
   "execution_count": 62,
   "metadata": {},
   "outputs": [],
   "source": [
    "def get_data_loaders(train_batch_size, val_batch_size):\n",
    "    def dataloader(arg):\n",
    "        keys, size, shuffle = arg\n",
    "        \n",
    "        return DataLoader(\n",
    "            ArticlesDataset(\n",
    "                \"data/articles.parquet.gzip\",\n",
    "                keys=keys,\n",
    "                transform=Tokenize()\n",
    "            ),\n",
    "            batch_size=size,\n",
    "            shuffle=shuffle\n",
    "        )\n",
    "    \n",
    "    return map(\n",
    "        dataloader,\n",
    "        [\n",
    "            (train, train_batch_size, True),\n",
    "            (val, val_batch_size, False)\n",
    "        ]\n",
    "    )"
   ]
  },
  {
   "cell_type": "code",
   "execution_count": 63,
   "metadata": {},
   "outputs": [],
   "source": [
    "train, test = get_data_loaders(8, 8)"
   ]
  },
  {
   "cell_type": "code",
   "execution_count": 67,
   "metadata": {},
   "outputs": [
    {
     "name": "stderr",
     "output_type": "stream",
     "text": [
      "Token indices sequence length is longer than the specified maximum sequence length for this model (897 > 512). Running this sequence through the model will result in indexing errors\n",
      "Token indices sequence length is longer than the specified maximum sequence length for this model (897 > 512). Running this sequence through the model will result in indexing errors\n",
      "Token indices sequence length is longer than the specified maximum sequence length for this model (631 > 512). Running this sequence through the model will result in indexing errors\n",
      "Token indices sequence length is longer than the specified maximum sequence length for this model (757 > 512). Running this sequence through the model will result in indexing errors\n"
     ]
    },
    {
     "data": {
      "text/plain": [
       "{'text_ids': [tensor([101, 101, 101, 101, 101, 101, 101, 101]),\n",
       "  tensor([ 5704,  1636, 11255,  1135, 18149,  7993,  1192,  5875]),\n",
       "  tensor([1158, 1180, 1103, 1541,  170, 1251, 1169, 2033]),\n",
       "  tensor([ 1103,  1129, 13316,  1110,  1420,  5127,  1178,  1256]),\n",
       "  tensor([ 1524,  1121, 15426,  1103,  1104, 19089,  1329,  1110]),\n",
       "  tensor([1105, 1240, 1105, 1211, 2546, 1113, 1240,  170]),\n",
       "  tensor([ 1171,  1168,  9834,  1696,   117,  1240, 18362,  1236]),\n",
       "  tensor([ 1104, 27535,  1111,  1282,  7852,  2775,  1106,  1106]),\n",
       "  tensor([ 1296,  3203,  1275,  1106, 14948,   117,   187,  1836]),\n",
       "  tensor([ 6837,   117,  1106,  3295,   117,  1301, 20219,  4366]),\n",
       "  tensor([ 117, 1385, 1367,  119, 2037, 1106, 1894, 6288]),\n",
       "  tensor([ 1142, 15402,  1904,  1192,  1106,  1103, 18700,  1176]),\n",
       "  tensor([3442,  117,  119, 1538, 1103, 1130, 1116, 4470]),\n",
       "  tensor([ 1209,  1137,  7911,  2482, 22919,  8757,  1191,  1134]),\n",
       "  tensor([1294, 8113, 1235, 1149,  117, 3265, 1122, 1169]),\n",
       "  tensor([ 170, 1116, 1103, 1150, 1105,  119, 2762, 1129]),\n",
       "  tensor([ 7423,  1121, 11019,  1128,  1177,   132,   112,  8362]),\n",
       "  tensor([  118,  1266, 15818,  1132,  5275,   117,   189, 13836]),\n",
       "  tensor([ 3674,  1105, 15055,  1105,   119,  1192,  3651,  6066]),\n",
       "  tensor([1137, 2053, 1110, 1184, 1438, 1169,  119, 7889]),\n",
       "  tensor([13499,   119,  8886,  1128,   117,  1329,  1188,   119]),\n",
       "  tensor([ 3080, 12596,   119,  1328,  1122,  1240,  3442,  1790]),\n",
       "  tensor([1520, 1292, 1457,  119,  112, 7986, 1110,  787]),\n",
       "  tensor([  119,  1111, 11098,  1409,   188,  9366,  7891,   189]),\n",
       "  tensor([15599,  1240,  1103,  1128,  1136,  1394,  1191,  1437]),\n",
       "  tensor([ 1118, 10085,  1447,  1274,  1536,  4068,  1128,  1240]),\n",
       "  tensor([1781, 5361, 1149,  112, 1106, 1106,  112, 1289]),\n",
       "  tensor([1103,  186, 1154,  189, 1198, 2469, 1231,  117]),\n",
       "  tensor([  129, 20833,  1103,  1221,  2367,  1240,  1198,  1137]),\n",
       "  tensor([ 119,  119, 7496, 1173,  119, 1130,  187, 1240]),\n",
       "  tensor([  126, 19285,   119,  1185,  1192,  8757, 20219,  4470]),\n",
       "  tensor([ 790, 1113,  117, 2564, 1209, 3300, 1158, 1268]),\n",
       "  tensor([ 193, 1240, 7347, 1113, 1145,  119, 1141, 1283]),\n",
       "  tensor([14541, 18689,  1107,  4033,  1444, 13832,  1137,  1105]),\n",
       "  tensor([ 790,  117, 1103, 1209, 1106, 2083, 1160, 1474]),\n",
       "  tensor([ 2727,  1292, 26422,  1221, 10541,  1172, 18700,  1128]),\n",
       "  tensor([1104, 1180, 1279, 1719, 1725, 1154, 1116,  112]),\n",
       "  tensor([2526, 1129, 1105,  117, 1142, 1147, 1105, 1231]),\n",
       "  tensor([1105, 1155, 1519, 1105, 1110, 7514, 1274, 1280]),\n",
       "  tensor([13748,  1104,  1103,  1117,   170,  3872,   112,  1106]),\n",
       "  tensor([1122, 1141, 7759, 1436, 1363,  117,  189, 1243]),\n",
       "  tensor([ 1107,  6029, 27466,  3319,  1911,  1105,  1328,  1256]),\n",
       "  tensor([ 1544,  2060, 10951,  1547,   117, 13440,  1106,   119]),\n",
       "  tensor([ 789, 1137, 1111, 1129, 1373,  789, 4511, 3743]),\n",
       "  tensor([ 5871,  1104,  1330,  1380,  1114, 20979,  1103, 10573]),\n",
       "  tensor([12913,  9507,   126,  4366, 17241,  1107,  1159, 12051]),\n",
       "  tensor([23872, 10855,  1106,   119,  1111,   119,  3238,   117]),\n",
       "  tensor([1947, 1105,  129, 1124, 5920,  790, 1111, 1105]),\n",
       "  tensor([  119, 10724,  1904,  1547,  1103,  1192,  1606,  1294]),\n",
       "  tensor([ 790,  119,  119, 1129, 4381, 1209, 1240, 1240]),\n",
       "  tensor([ 1188,  9471,   117,  1268,  1111,  1129, 19645,  4010]),\n",
       "  tensor([2086, 1104,  102,  119, 1103, 1678,  119, 1341])],\n",
       " 'headline_ids': [tensor([101, 101, 101, 101, 101, 101, 101, 101]),\n",
       "  tensor([  143,   138,  6816,  4108,  3949,   159, 12128,  6060]),\n",
       "  tensor([11015, 19515,  1103,  2276,  1103, 26868,  1240,  1122]),\n",
       "  tensor([ 1103,  1818, 11019,  1106,  1278,  1204,  3245,  4348]),\n",
       "  tensor([ 2526,  9732, 15818,  3739,  1113,  1130, 18362,  1111]),\n",
       "  tensor([ 1107, 16720, 15055,   119,  1240,  8757,  9870,  1103]),\n",
       "  tensor([1544, 1116, 1107,  117, 1334,  119, 9925, 1159]),\n",
       "  tensor([ 119, 1104,  170, 6853,  119,  117, 1106, 1217]),\n",
       "  tensor([  117,  8113, 14313,  2607,   117, 10605,  5143,   119]),\n",
       "  tensor([  143,   119, 10224,  1128, 15075,  1403,   119,   117]),\n",
       "  tensor([11015,   117,  2709,  1444,   170,  1154,   117, 15240]),\n",
       "  tensor([  170, 15944,  1114,  1106,  3914,  1240,   160, 18251]),\n",
       "  tensor([ 1248,   170, 17913,  1294,  1106,  3300, 14543,  3242]),\n",
       "  tensor([1159, 4844, 1447, 1107, 1576,  119, 1240, 1106]),\n",
       "  tensor([ 1107,   119,   119,  1240,  1105,   117, 18700,  1243]),\n",
       "  tensor([1103,  117,  117, 1297, 5494, 9800, 1116, 1256]),\n",
       "  tensor([ 1269,  9617, 11637,   117,  1103,  4121,  1107,   119]),\n",
       "  tensor([2447, 5034, 1204, 1243, 2070, 1240,  170,  117]),\n",
       "  tensor([  119,  1113,  1103,  1113,   119, 10322,  2702, 11913]),\n",
       "  tensor([  117,  1103, 13742,  1103,   117,  1166,  6440,  1240]),\n",
       "  tensor([12118,   186,  1107,  1812, 13063,  1126,  1104,  2197]),\n",
       "  tensor([10787, 20833,   170,  1106,  3269, 10632, 14349,  1154]),\n",
       "  tensor([ 1103,  4844,  2767,  1543,  1293,  1115, 20235,  2168]),\n",
       "  tensor([ 2526,  1128, 13316,  1292,  1510,  1128,   119,   119]),\n",
       "  tensor([ 119, 1328, 1105, 2607, 1103, 1156,  117,  117]),\n",
       "  tensor([  117,  1106,   175,   119,  2070,  1176,  5033, 11387]),\n",
       "  tensor([  143,  1329,  1616,   117,  1209,  1106,  1103, 15447]),\n",
       "  tensor([11015,   119,  1103,  1987,  1129,  4036, 18700,  2227]),\n",
       "  tensor([ 1103,   102, 24861,  5800,  1113,  1154,  1116,  2033])],\n",
       " 'normalized_title': ['HowtoMakeanOrigamiBook1',\n",
       "  'HowtoMakeaPatchworkQuilt1',\n",
       "  'HowtoMakeCauliflowerwithTomatoandCuminSauce',\n",
       "  'HowtoBecomeaGuyMagnet',\n",
       "  'HowtoCreateaSchoolRadio(UK)',\n",
       "  'HowtoCreateaFolderonGoogleInbox1',\n",
       "  'HowtoRoastRedPeppers2',\n",
       "  'HowtoGetEven1'],\n",
       " 'text': [' Counting the front and back of each sheet, this method will make a sixteen-page origami book. Start by taking the 8.5”x11” piece of paper and folding it in half “hamburger style.”This means folding along the 11” side, leading you with a 5.5”x8.5” paper.;\\n, Take the folded piece of paper and fold it in half one more time in the same direction.This will leave you with a very narrow paper approximately 2.75”x8.5” in size.\\n\\n, Now that you have marked those two creases, you want to unfold the paper entirely. The unfolded page will be 8.5”x11” again, and it will have creases separating the paper into four rows., With the page still fully unfolded, you want to turn the direction 90 degrees and fold the paper in half again but “hot dog style” this time.The folded sheet will be 4.25”x11”.\\n\\n, Just like you made the second fold in the same direction with the “hamburger style” fold, you want to do it again with the “hot dog style” fold.When you fold the paper in half again, it will be roughly 2.125”x11”.\\n\\n, Now that you’ve made these two fold, unfold the paper completely until it’s 8.5”x11” again.This time the creases will form sixteen evenly sized little rectangular boxes across the page.\\n\\n, With all of the creases made, you’re ready to start forming the paper into a book. Start by folding the paper along the very first “hamburger style” fold so that it is 5.5”x8.5”., Turn the spine of the folded paper toward you and use a pair of scissors to cut the creases that run perpendicular to the spine of the fold.There should be three such creases and you want to cut each halfway down the paper.\\n\\n\\nThe halfway point down the paper will be easy to see since it’s where the next crease that runs parallel to the spine intersects along the creases you’re cutting., With the three cuts along the creases done, open the page again. It will now be the 8.5”x11” page but with two slats in the middle of the page.\\n\\n, With the page open, turn it so that the slats in the page look like an equal sign, and then make a perpendicular cut along the pre-existing crease in the equal sign.This will form four separate flaps in the middle of the page.\\n\\n, Once you have made the flaps, fold the flaps outward toward the edge of the page.There will be pre-existing creases at the edge of the flaps from the earlier folds, and since all of the rectangles earlier were of an equal size, when you fold the flaps over, they should be roughly flush with the edge of the page.\\n\\n\\nWhen you fold the flaps back, there will be a gap in the middle of the page that makes it look a bit like a window., With the flaps still folded over, you want to turn the entire page over.This will put the flaps side of the page facedown on your work table.\\n\\n, Take the top row of the paper and the bottom row of the paper and fold both of them in toward the center of the page.After you make the folds, the page will be the same size as though you had folded it “hot dog style,” which is 4.25”x11”.\\n\\n,, Lift up the paper off the table and push the two ends of the paper toward each other without folding it.When looking at it from the top, this will make the middle section bow out along the pre-existing creases into a diamond shape.\\n\\n, As you continue to push the ends toward each other, the diamond shape will get smaller and the ends you’re holding and the bowed out ends will form an X shape., The pages will be sort of fanned out as though you had opened a book the entire way until the covers touch. To finish the book, you simply need to fold from the center as though you were closing the book.',\n",
       "  ' These could be from your other sewing projects, old dresses, or fabrics from family and friends. Save these for your patchwork quilt.\\n\\n\\nDepending on your tastes, these could be all of one uniform size or of varying sizes and shapes. Think of how the pieces would form into a whole. Try to have at least 6 different patterns.;\\n, Look through the Internet (Google Books is a good place to start) and craft books for a pattern that suits your interests or create your own by deciding what you want your quilt to look like.\\n\\n\\nQuilt designs take small pieces of fabric and create a collage look of one part of the blueprint of one design. The pieces are generally no smaller than a 2-inch (5.08 cm) square and may be much larger, depending upon your chosen design.\\n\\n, Then, cut out pieces of fabric that will provide the colors and patterns you need. A good pair of scissors will be of great use here.\\n\\n\\nMake sure to allot for a 1/4\" (1.25 cm) seam allowance on all sides. If you want 2\" squares, make your squares 2.5\" on all sides.\\n\\nOf course, you don\\'t have to use squares. Rectangles and triangles will work, too.\\n\\n\\nForm your pattern on the floor. It\\'s a lot easier to arrange your quilt when it\\'s not sewn together. Arrange the pieces in the exact order you want them. In addition to seeing how the colors fit together, you\\'ll see how big your quilt is and if you\\'re happy with the size.\\n\\n',\n",
       "  ' Leave the pan uncovered and cook for 10 to 12 minutes. Wait until the cauliflower is tender. Strain the water out into the sink.\\n, Mix in the tomatoes and let the mixture simmer for another 5 to 8 minutes.,',\n",
       "  ' It really is the most important place to begin. You must figure out who you are and what you want. If you don\\'t know then no guy on earth will know either, and his best guess might be something negative. He might be right.;\\n, We all have reasons for the things we do and the things we don\\'t. If something is holding you back, get past it and get on with your life. You need to be complete before you go looking for someone to compliment you.\\n\\n, Some women feel most confident in a skirt and high heels. Other women feel more confident in jeans and a t-shirt. Wear what makes you feel best because confidence always makes you sexy. Don\\'t make the mistake of wearing designer labels and believing that guys are only interested in girls that look very \"girly.\" Some guys even think a girl with a tomboy streak is pretty cute. Aren\\'t you good enough that he should like you for who you are?\\n\\n, When you are being and looking yourself, you are guaranteed to attract people who want what you have. The only problem is that some will want to nurture you while others will want to exploit you. Open your eyes and ears, and it\\'s fairly easy to tell who is who. This then brings to the next step...\\n\\n, Never be in a hurry. Wait until you have sufficient data by which to judge someone before you give them too much of your time and attention. This is handy for warding off both the jerks and the guys who will put you in the friend zone (even after - if - they\\'ve slept with you). A guy who needs an ego feeder is playing the modern male version of the Rapo game from the book Games People Play. They seduce you, and then all of a sudden claim that either they didn\\'t want a relationship, or they just wanted to be friends. Whichever brand of time-wasting ego suckers you\\'re dealing with, both are bad news. They not only take away your free time and mental space to talk to other guys, but they tend to make territorial gestures that keep other guys away.\\n\\n, Make yourself physically off limits to them. If they don\\'t get the point, then tell them flat out that public displays of affection are for boyfriends only.\\n\\n, If it means he has to sit with your parents, have him do this before he can get too close to you. If it means taking you to the cafe to sit and chat with your mutual friends, then do that too. Having an accountability factor for your partner improves your reputation by showing that you do have standards and also shows people that guys are not afraid to be seen with you. Men need to compete. Let them do it. If they think you\\'re not worth it, then you know what you\\'re dealing with.\\n\\n, Sit some time and have one of your friends videotape a night out with you. It\\'ll be very enlightening. You might be too prissy, or you might be too frumpy. What you want to be, if you intend to be a guy magnet, is reasonably approachable... sexy and yet respectable... huggable.\\n\\n, You don\\'t have to have the \"perfect\" body or face. Most people have the basic natural equipment for beauty built in. Even if you have fairly serious looks problems or differences though, you can still be just as sexy and huggable as the media clone next to you if you smell good and look like you put some time and effort into your hygiene and grooming.\\n\\n, Let the guy call you sometime. If he\\'s interested or worth pursuing, he will. Even if he is submissive, he still needs a chance to be a man.\\n\\n, You don\\'t need to be a total prude, but you do need to leave the plate on the table when you eat, chew with your mouth closed, and look at people when they\\'re talking to you.\\n\\n, Look in their eyes. If they like you, they\\'re going to be trying to catch your eye. When you catch their eye, hold the gaze a little longer than usual, and when you break the eye contact, blush. Guys think it\\'s cute when you blush. Don\\'t worry if you can\\'t blush though.\\n\\n',\n",
       "  ' Ask a member of staff, deliver speeches, talk to the headmaster, and so forth. However, it\\'s not enough to just ask. You will also need to demonstrate why this is a good idea, along with suggestions for raising the funds for the technical equipment needed.\\n\\n\\nDo a short poll among students to ascertain the level of interest in a school radio. Knowing this will bolster your argument for it.\\nFind out whether it\\'s possible to borrow, hire or purchase used equipment to make the radio happen on a budget.\\nExplain what benefits you think the students––and teachers and other staff––will get from having a school radio. This might include being able to make announcements, provide interesting ways to get across messages, provide work experience, teach students to think and work together, and so forth.\\nProvide a brief overview of what you perceive a likely structure as being. This will help to demonstrate that you\\'ve thought well beyond just the \"nice idea\" of having the school radio.;\\n, You will need a Station Manager, Assistant Manager, Technical Team, Production Manager (mixing, jingle making and audio processing). And, of course, you\\'ll need plenty of presenters.\\n\\n, Will it just be during school hours? Will it be only during breaks during school time? Will it be after school or on weekends? Address this early on, perhaps even when selling the idea to your school, so that you have realistic expectations. The more hours on air, the more work that has to be done and the more people rostered on and not doing other things such as studying and sports, so bear this in mind.\\n\\n, This will allow you to play copyrighted music. Call up the communications authority in your area to find out what the prices are and what you need to do to fill out the paperwork.\\n\\n\\nIn some places, a school license is available for a discounted price.\\n\\n, A package may be a good idea if you have a high budget and don\\'t have so much technical experience. However, if you are on a lower budget try buying the kit separately and putting your own kit together. Or consider hiring it. It might also be possible to get secondhand gear from auctions sites or actual live auction houses. Call around to see what\\'s available.\\n\\n,\\n\\n\\nSet up your automation; install any software you require on your PCs.\\nPut together playlists for the day.\\nSort out a schedule.\\n\\n,\\n\\n\\nUse Facebook and Twitter to promote the station.\\nHave an email account for listeners to contact you during the show or after.\\n\\n, Have a fun party, which can also be part of a first broadcast. Invite the whole school and use it as an open day event as well.\\n\\n, Now you\\'re ready, so get yourselves on air. Keep the station maintained well and on air. To do this, you\\'ll need to practice good management, have teaching staff advising and overseeing finances and managerial issues and helping where needed. Otherwise, try to do as much of this yourselves, as the experience is invaluable.\\n\\n',\n",
       "  ' Using any web browser on your computer, go to the Inbox website.;\\n, You can use your Google login details to access your Inbox account. Enter them into their respective fields, and click “Sign in.” You will be taken to your inbox folder.\\n\\n, Just scroll down the page to locate an email that you would like to transfer into a new folder. Once you find the email, hover your mouse over it; a 3-dot icon will appear to the right.\\n\\n, This will open the context menu for that email.\\n\\n, You’ll find this option at the very bottom of the menu. A single box will pop up on your screen asking for the name of your new folder.\\n\\n, Enter the folder name into the field then click the “Save” button below the name field to save. The new folder will be created, and the email you selected will be moved to this folder.\\n\\n',\n",
       "  \" You can only use your stove to roast red peppers if it isn't electric. This method is ideal if you're just roasting one or two peppers and don't want to spend the time necessary for using your oven.\\n\\n, You can also use a single layer if you're using heavy duty foil. Just make sure that you've sealed your pepper nice and tight so that no parts of your peppers are directly exposed to the flame.\\n\\n, Be careful when doing this. Make sure you stay in your kitchen the entire time and don't leave the peppers alone for a minute. You don't want juices from the peppers to get into the flame or for anything unexpected to happen. This method is easy, but it can be a bit messy, so it's important to watch over those peppers and to keep the juices from spilling everywhere.\\n\\n, Use tongs to turn the pepper a quarter about every 4-5 minutes. This will ensure that the pepper gets a nice, even roast. After the 20-minute mark has passed, you can squeeze the pepper gently to check if it's ready. If it gives easily, it's ready; if it's a bit firm, you can roast it for another few minutes, checking on it every 2-3 minutes until it's ready.\\n\\n, Let it sit for 15-20 minutes in its foil. It will steam in the foil; this will help the skins get nice and loose and will make them easier to peel.\\n\\n, Be careful because it might still be hot. Gently use tongs to remove the pepper from the foil. It'll be soft, charred, and almost ready to eat.\\n\\n, Now, you've got to gently remove those skins, cut those peppers, and use a paper towel or spoon to gently scoop out the seeds. Cut up the peppers as thinly as you like and enjoy them in your favorite foods. They are delicious when covered with a bit of olive oil.\\n\\n\",\n",
       "  ' Sometimes getting even is a way to release negative emotions like anger which can be unhealthy.Don’t show your hand, or your anger right away and say you\\'re going to get even. Instead react honestly, and make your target think he\\'s won. This way he\\'ll be less likely to expect payback.\\n\\n\\nSay your coworker didn’t tell you about an important meeting or used your work as his own. Don’t call him out and make a scene at work, that will only make you look worse. Let him think he\\'s won and wait for your chance to get even.\\nIs your friend taking advantage of your relationship? Tired of trying to talk to him and not getting through? Don\\'t blow up at him, wait for your chance to get even.\\nOr perhaps your significant other is taking advantage of the relationship. Freaking out may exacerbate the situation, so stay calm and try not to say something you might regret like \"This is why...\" or \"You always...\".;\\n, There are plenty of inventive ways to get even.Now it’s time to channel your frustration into creative thinking. Either come up with your own plan or try giving him a taste of own medicine. Plan the what, when, and where. Get to work early before anyone else so you have time to set up. Make plans to hang out with your friend at his place, or plan a date with your significant other.\\n\\n\\nRemember that coworker who wronged you? Think of what he did to you and use what you have at your disposal to get even.\\nMaybe your friend is always borrowing your stuff without asking. Why not get even by returning the favor?\\nMaybe your significant other is always late, or never offers to pay for anything.\\n\\n, Now it’s time to get your “just desserts”. With your plan all set up, you’re going to have to do some acting to keep him from thinking anything is up.\\n\\n\\nIf you use something like a shared calendar at work you can set up a private event that won’t show up on your coworker’s calendar so he won’t know about it. If you’re looking to have a bit more fun, you can also go into a shared folder and move his files around, hide them in subfolders, or even remove them completely. Just make sure that what you\\'re doing won\\'t get you fired.Borrow your friend’s phone charger and hide it so that when his phone runs out of battery he can’t charge it. It may sound kind of silly, but hey, we\\'re getting even here. Or, if you’re really feeling creative, use his phone or computer to get on his social media account and post on his behalf apologizing for all of his transgressions.\\nGet even with your significant other by making him wait for once, or “forget” your wallet when you go out.\\n\\n, This way you can enjoy it over and over again. This part is just as fun as getting even. Snap a couple of photos or shoot a video, you can even have a friend help you out with this. There’s no better way to make someone remember what he\\'s done than to provide proof, after all.\\n\\n\\nAnd if you’re feeling a little vindictive, you can always upload it to social media.\\n\\n, Remember here that you’re getting even, not ruining his life or destroying a relationship. Reveal why you did what you did and show him that you’re even now by helping him with anything you may have done.\\n\\n'],\n",
       " 'headline': ['\\nFold the paper in half.,\\nFold a second time in the same direction.,\\nUnfold the paper.,\\nFold the paper in half in the opposite direction.,\\nFold the paper in half again in the same direction.,\\nUnfold the paper completely.,\\nFold the paper in half “hamburger style” again.,\\nCut along the three creases on the spine.,\\nUnfold the page.,\\nCut the slats.,\\nFold the four flaps back.,\\nTurn the page over.,\\nFold the top and bottom to the center.,\\nFold the sheet in half “hot dog style.” With the top and bottom folded toward the center, you now want to fold the entire sheet “hot dog style.”The sheet will be roughly 2.125”x11” in size and the flaps you folded over earlier will be on the outside edges of the page.\\n\\n,\\nPush the left and right sides together to form a diamond.,\\nGather it into an X shape.,\\nFold in half at the center.',\n",
       "  '\\nAccumulate scraps of fabric.,\\nFind a pattern.,\\nSettle on the quilt pattern you want to use.',\n",
       "  '\\n\\n\\n\\n \\n\\nCook the cauliflower in a saucepan filled with boiling water.,\\n\\n\\n\\n\\n\\nMelt the butter in a separate pan and fry the garlic, cumin, and onion pieces for about 3 minutes.,\\n\\n\\n\\n\\n\\nPlace the cauliflower into the pan and mix thoroughly.\\n',\n",
       "  \"\\nBe true to yourself.,\\nWhatever changes you need to make in your life, get on the road to making these changes.,\\nDress in a way that makes you feel confident.,\\nTrust the law of attraction, but beware at the same time.,\\nTrust your instincts, and be a patient hunter.,\\nDon't let your guy friends touch you for more than greeting, parting and occasional hugs in public.,\\nIf a guy is interested in you, then make him prove it by engaging in whatever level of public activity and affection is appropriate for your culture.,\\nWatch your posture, attitude and facial expressions.,\\nBe well groomed.,\\nDon't call a guy excessively, especially if you're not in a relationship with him.,\\nMind your manners.,\\nLook at guys.\",\n",
       "  '\\nGet the school on your side.,\\nForm a committee to run and manage the radio.,\\nDecide how often the radio will be on air.,\\nBuy your licences for a public radio station (PRS).,\\nGet the kit.,\\nPrepare the music and shows.,\\nAdvertise your station and launch date to the public and the school.,\\nThrow a launch party.,\\nStart broadcasting.',\n",
       "  '\\nVisit Inbox.,\\nLog into your account.,\\nHover your mouse over an email that you would like to transfer into a new folder.,\\nClick on the 3-dot icon.,\\nSelect “Create New” from the menu.,\\nCreate a new folder.',\n",
       "  '\\nTurn your gas stovetop flame to medium.,\\nWrap your peppers in a double layer of aluminum foil.,\\nPlace the peppers directly over the top of the gas flame.,\\nRoast them for 20-25 minutes.,\\nRemove the pepper from the stove and steam them.,\\nOpen the foil.,\\nPrepare the pepper.',\n",
       "  '\\nPlay it cool for the time being.,\\nBrainstorm ways to get even.,\\nPut your plan into action.,\\nDocument getting even so he remembers.,\\nReconcile after you get even.']}"
      ]
     },
     "execution_count": 67,
     "metadata": {},
     "output_type": "execute_result"
    }
   ],
   "source": [
    "iter(train).next()"
   ]
  },
  {
   "cell_type": "markdown",
   "metadata": {},
   "source": [
    "## Reading list\n",
    "\n",
    "* [Comprehensive Guide to Text Summarization using Deep Learning in Python](https://www.analyticsvidhya.com/blog/2019/06/comprehensive-guide-text-summarization-using-deep-learning-python/)\n",
    "* [Neural Text Summarization](https://cs224d.stanford.edu/reports/urvashik.pdf)\n",
    "* [ALBERT: A Lite BERT for Self-supervised Learning of Language Representations](https://arxiv.org/abs/1909.11942)\n",
    "([HTML](https://www.arxiv-vanity.com/papers/1909.11942/))\n",
    "* https://arxiv.org/abs/1711.09534\n"
   ]
  },
  {
   "cell_type": "markdown",
   "metadata": {},
   "source": [
    "## Ideas\n",
    "\n",
    "### From \"Boosting Factual Correctness of Abstractive Summarization with Knowledge Graph\"\n",
    "\n",
    "- I could use the OpenIE tool to obtain the relation tuples from the text and from the resulted summary and add the loss term for each false tuple in the result"
   ]
  },
  {
   "cell_type": "raw",
   "metadata": {},
   "source": [
    "julia> histogram(data, nbins=20)\n",
    "                  ┌                                        ┐\n",
    "   [ 15.0,  20.0) ┤▇▇▇▇▇▇▇▇▇▇▇▇▇▇▇▇▇▇▇▇▇▇▇▇▇▇▇ 70\n",
    "   [ 20.0,  25.0) ┤▇▇▇▇▇▇▇▇▇▇▇▇▇▇▇▇▇▇▇▇▇▇▇▇▇▇▇▇▇▇▇▇▇▇▇▇ 94\n",
    "   [ 25.0,  30.0) ┤▇▇▇▇▇▇▇▇▇ 24\n",
    "   [ 30.0,  35.0) ┤▇▇▇ 7\n",
    "   [ 35.0,  40.0) ┤▇ 2\n",
    "   [ 40.0,  45.0) ┤ 0\n",
    "   [ 45.0,  50.0) ┤ 1\n",
    "   [ 50.0,  55.0) ┤ 0\n",
    "   [ 55.0,  60.0) ┤ 0\n",
    "   [ 60.0,  65.0) ┤ 1\n",
    "   [ 65.0,  70.0) ┤ 0\n",
    "   [ 70.0,  75.0) ┤ 0\n",
    "   [ 75.0,  80.0) ┤ 0\n",
    "   [ 80.0,  85.0) ┤ 0\n",
    "   [ 85.0,  90.0) ┤ 0\n",
    "   [ 90.0,  95.0) ┤ 0\n",
    "   [ 95.0, 100.0) ┤ 1\n",
    "                  └                                        ┘"
   ]
  },
  {
   "cell_type": "markdown",
   "metadata": {},
   "source": [
    "## Plan of attack\n",
    "\n",
    "### Architecture"
   ]
  },
  {
   "cell_type": "markdown",
   "metadata": {},
   "source": [
    "https://arxiv.org/pdf/1905.05894.pdf"
   ]
  }
 ],
 "metadata": {
  "kernelspec": {
   "display_name": "Python 3",
   "language": "python",
   "name": "python3"
  },
  "language_info": {
   "codemirror_mode": {
    "name": "ipython",
    "version": 3
   },
   "file_extension": ".py",
   "mimetype": "text/x-python",
   "name": "python",
   "nbconvert_exporter": "python",
   "pygments_lexer": "ipython3",
   "version": "3.6.8"
  }
 },
 "nbformat": 4,
 "nbformat_minor": 4
}
